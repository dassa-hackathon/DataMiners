{
 "cells": [
  {
   "cell_type": "markdown",
   "id": "004108c4",
   "metadata": {},
   "source": [
    "Import packages"
   ]
  },
  {
   "cell_type": "code",
   "execution_count": 536,
   "id": "e1751fee",
   "metadata": {},
   "outputs": [],
   "source": [
    "import numpy as np\n",
    "import scipy as sp\n",
    "import sklearn as sk\n",
    "import pandas as pd"
   ]
  },
  {
   "cell_type": "markdown",
   "id": "1040c91f",
   "metadata": {},
   "source": [
    "Visualization Packages"
   ]
  },
  {
   "cell_type": "code",
   "execution_count": 537,
   "id": "b5a09249",
   "metadata": {},
   "outputs": [],
   "source": [
    "import matplotlib.pyplot as plt\n",
    "import seaborn as sb"
   ]
  },
  {
   "cell_type": "markdown",
   "id": "6bdfe9aa",
   "metadata": {},
   "source": [
    "SKLearn packages"
   ]
  },
  {
   "cell_type": "code",
   "execution_count": 538,
   "id": "bc347a2f",
   "metadata": {},
   "outputs": [],
   "source": [
    "from sklearn.linear_model import SGDClassifier\n",
    "from sklearn.svm import SVC\n",
    "from sklearn.model_selection import train_test_split\n",
    "from sklearn.metrics import accuracy_score, log_loss\n",
    "from sklearn.pipeline import Pipeline\n",
    "from sklearn.preprocessing import PowerTransformer, MaxAbsScaler, OneHotEncoder, LabelEncoder, StandardScaler\n",
    "from sklearn.feature_extraction.text import CountVectorizer, TfidfTransformer\n",
    "from sklearn.compose import ColumnTransformer\n",
    "from sklearn.model_selection import cross_validate, cross_val_score, StratifiedKFold, GridSearchCV, RandomizedSearchCV\n",
    "from joblib import Memory\n",
    "from shutil import rmtree"
   ]
  },
  {
   "cell_type": "markdown",
   "id": "51592df2",
   "metadata": {},
   "source": [
    "Load the data"
   ]
  },
  {
   "cell_type": "code",
   "execution_count": 539,
   "id": "728dba71",
   "metadata": {},
   "outputs": [
    {
     "name": "stderr",
     "output_type": "stream",
     "text": [
      "C:\\Users\\shash\\AppData\\Local\\Temp\\ipykernel_8328\\705503941.py:1: DtypeWarning: Columns (6,7) have mixed types. Specify dtype option on import or set low_memory=False.\n",
      "  df = pd.read_csv('data/training.csv')\n"
     ]
    },
    {
     "data": {
      "text/html": [
       "<div>\n",
       "<style scoped>\n",
       "    .dataframe tbody tr th:only-of-type {\n",
       "        vertical-align: middle;\n",
       "    }\n",
       "\n",
       "    .dataframe tbody tr th {\n",
       "        vertical-align: top;\n",
       "    }\n",
       "\n",
       "    .dataframe thead th {\n",
       "        text-align: right;\n",
       "    }\n",
       "</style>\n",
       "<table border=\"1\" class=\"dataframe\">\n",
       "  <thead>\n",
       "    <tr style=\"text-align: right;\">\n",
       "      <th></th>\n",
       "      <th>id</th>\n",
       "      <th>Kingdom</th>\n",
       "      <th>DNAtype</th>\n",
       "      <th>SpeciesID</th>\n",
       "      <th>Ncodons</th>\n",
       "      <th>SpeciesName</th>\n",
       "      <th>UUU</th>\n",
       "      <th>UUC</th>\n",
       "      <th>UUA</th>\n",
       "      <th>UUG</th>\n",
       "      <th>...</th>\n",
       "      <th>CGG</th>\n",
       "      <th>AGA</th>\n",
       "      <th>AGG</th>\n",
       "      <th>GAU</th>\n",
       "      <th>GAC</th>\n",
       "      <th>GAA</th>\n",
       "      <th>GAG</th>\n",
       "      <th>UAA</th>\n",
       "      <th>UAG</th>\n",
       "      <th>UGA</th>\n",
       "    </tr>\n",
       "  </thead>\n",
       "  <tbody>\n",
       "    <tr>\n",
       "      <th>0</th>\n",
       "      <td>1</td>\n",
       "      <td>pln</td>\n",
       "      <td>0.0</td>\n",
       "      <td>3886</td>\n",
       "      <td>4181</td>\n",
       "      <td>Phaseolus coccineus</td>\n",
       "      <td>0.02392</td>\n",
       "      <td>0.02966</td>\n",
       "      <td>0.00765</td>\n",
       "      <td>0.01794</td>\n",
       "      <td>...</td>\n",
       "      <td>0.00167</td>\n",
       "      <td>0.00789</td>\n",
       "      <td>0.01315</td>\n",
       "      <td>0.02966</td>\n",
       "      <td>0.02631</td>\n",
       "      <td>0.02822</td>\n",
       "      <td>0.02727</td>\n",
       "      <td>0.00096</td>\n",
       "      <td>0.00191</td>\n",
       "      <td>0.00144</td>\n",
       "    </tr>\n",
       "    <tr>\n",
       "      <th>1</th>\n",
       "      <td>2</td>\n",
       "      <td>arc</td>\n",
       "      <td>0.0</td>\n",
       "      <td>146920</td>\n",
       "      <td>1716</td>\n",
       "      <td>Acidianus tengchongenses</td>\n",
       "      <td>0.01748</td>\n",
       "      <td>0.01049</td>\n",
       "      <td>0.05361</td>\n",
       "      <td>0.01282</td>\n",
       "      <td>...</td>\n",
       "      <td>0.00000</td>\n",
       "      <td>0.03322</td>\n",
       "      <td>0.00524</td>\n",
       "      <td>0.04429</td>\n",
       "      <td>0.01340</td>\n",
       "      <td>0.05769</td>\n",
       "      <td>0.02214</td>\n",
       "      <td>0.00233</td>\n",
       "      <td>0.00000</td>\n",
       "      <td>0.00000</td>\n",
       "    </tr>\n",
       "    <tr>\n",
       "      <th>2</th>\n",
       "      <td>3</td>\n",
       "      <td>vrl</td>\n",
       "      <td>0.0</td>\n",
       "      <td>220938</td>\n",
       "      <td>1103</td>\n",
       "      <td>Tomato yellow leaf curl virus-[Almeria]</td>\n",
       "      <td>0.02357</td>\n",
       "      <td>0.02267</td>\n",
       "      <td>0.01632</td>\n",
       "      <td>0.01088</td>\n",
       "      <td>...</td>\n",
       "      <td>0.00363</td>\n",
       "      <td>0.01995</td>\n",
       "      <td>0.01632</td>\n",
       "      <td>0.03083</td>\n",
       "      <td>0.01813</td>\n",
       "      <td>0.02992</td>\n",
       "      <td>0.01904</td>\n",
       "      <td>0.00363</td>\n",
       "      <td>0.00091</td>\n",
       "      <td>0.00091</td>\n",
       "    </tr>\n",
       "    <tr>\n",
       "      <th>3</th>\n",
       "      <td>4</td>\n",
       "      <td>pln</td>\n",
       "      <td>1.0</td>\n",
       "      <td>35128</td>\n",
       "      <td>9379</td>\n",
       "      <td>mitochondrion Thalassiosira pseudonana</td>\n",
       "      <td>0.0708</td>\n",
       "      <td>0.01397</td>\n",
       "      <td>0.07389</td>\n",
       "      <td>0.01685</td>\n",
       "      <td>...</td>\n",
       "      <td>0.00235</td>\n",
       "      <td>0.01386</td>\n",
       "      <td>0.00213</td>\n",
       "      <td>0.02143</td>\n",
       "      <td>0.00618</td>\n",
       "      <td>0.02506</td>\n",
       "      <td>0.00533</td>\n",
       "      <td>0.00341</td>\n",
       "      <td>0.00032</td>\n",
       "      <td>0.00661</td>\n",
       "    </tr>\n",
       "    <tr>\n",
       "      <th>4</th>\n",
       "      <td>5</td>\n",
       "      <td>rod</td>\n",
       "      <td>1.0</td>\n",
       "      <td>9995</td>\n",
       "      <td>1520</td>\n",
       "      <td>mitochondrion Marmota monax</td>\n",
       "      <td>0.04671</td>\n",
       "      <td>0.02632</td>\n",
       "      <td>0.03421</td>\n",
       "      <td>0.00000</td>\n",
       "      <td>...</td>\n",
       "      <td>0.00197</td>\n",
       "      <td>0.00263</td>\n",
       "      <td>0.00000</td>\n",
       "      <td>0.01053</td>\n",
       "      <td>0.01842</td>\n",
       "      <td>0.01382</td>\n",
       "      <td>0.00197</td>\n",
       "      <td>0.00000</td>\n",
       "      <td>0.00000</td>\n",
       "      <td>0.02895</td>\n",
       "    </tr>\n",
       "  </tbody>\n",
       "</table>\n",
       "<p>5 rows × 70 columns</p>\n",
       "</div>"
      ],
      "text/plain": [
       "   id Kingdom  DNAtype  SpeciesID  Ncodons  \\\n",
       "0   1     pln      0.0       3886     4181   \n",
       "1   2     arc      0.0     146920     1716   \n",
       "2   3     vrl      0.0     220938     1103   \n",
       "3   4     pln      1.0      35128     9379   \n",
       "4   5     rod      1.0       9995     1520   \n",
       "\n",
       "                               SpeciesName      UUU      UUC      UUA  \\\n",
       "0                      Phaseolus coccineus  0.02392  0.02966  0.00765   \n",
       "1                 Acidianus tengchongenses  0.01748  0.01049  0.05361   \n",
       "2  Tomato yellow leaf curl virus-[Almeria]  0.02357  0.02267  0.01632   \n",
       "3   mitochondrion Thalassiosira pseudonana   0.0708  0.01397  0.07389   \n",
       "4              mitochondrion Marmota monax  0.04671  0.02632  0.03421   \n",
       "\n",
       "       UUG  ...      CGG      AGA      AGG      GAU      GAC      GAA  \\\n",
       "0  0.01794  ...  0.00167  0.00789  0.01315  0.02966  0.02631  0.02822   \n",
       "1  0.01282  ...  0.00000  0.03322  0.00524  0.04429  0.01340  0.05769   \n",
       "2  0.01088  ...  0.00363  0.01995  0.01632  0.03083  0.01813  0.02992   \n",
       "3  0.01685  ...  0.00235  0.01386  0.00213  0.02143  0.00618  0.02506   \n",
       "4  0.00000  ...  0.00197  0.00263  0.00000  0.01053  0.01842  0.01382   \n",
       "\n",
       "       GAG      UAA      UAG      UGA  \n",
       "0  0.02727  0.00096  0.00191  0.00144  \n",
       "1  0.02214  0.00233  0.00000  0.00000  \n",
       "2  0.01904  0.00363  0.00091  0.00091  \n",
       "3  0.00533  0.00341  0.00032  0.00661  \n",
       "4  0.00197  0.00000  0.00000  0.02895  \n",
       "\n",
       "[5 rows x 70 columns]"
      ]
     },
     "execution_count": 539,
     "metadata": {},
     "output_type": "execute_result"
    }
   ],
   "source": [
    "df = pd.read_csv('data/training.csv')\n",
    "df.dropna(inplace=True)\n",
    "df.head()"
   ]
  },
  {
   "cell_type": "code",
   "execution_count": 620,
   "id": "81d740a2",
   "metadata": {},
   "outputs": [
    {
     "data": {
      "image/png": "[encoded data removed]",
      "text/plain": [
       "<Figure size 432x288 with 1 Axes>"
      ]
     },
     "metadata": {
      "needs_background": "light"
     },
     "output_type": "display_data"
    }
   ],
   "source": [
    "df.SpeciesID.hist(bins=5)\n",
    "plt.title('SpeciesID Distribution')\n",
    "plt.show()"
   ]
  },
  {
   "cell_type": "code",
   "execution_count": null,
   "id": "e0773b1f",
   "metadata": {},
   "outputs": [],
   "source": []
  },
  {
   "cell_type": "code",
   "execution_count": 540,
   "id": "481c5595",
   "metadata": {},
   "outputs": [],
   "source": [
    "df = df[df['UUC']!='-']\n",
    "df = df[df['UUU']!='non-B hepatitis virus']"
   ]
  },
  {
   "cell_type": "code",
   "execution_count": 541,
   "id": "46bbfab2",
   "metadata": {},
   "outputs": [],
   "source": [
    "df['SpeciesName'] = df['SpeciesName'].str.lower()\n",
    "df['mitochondrian'] = [int('mitochondrion' in i) for i in df['SpeciesName']]\n",
    "df['virus'] = [int('virus' in i) for i in df['SpeciesName']]\n",
    "df['chloroplast'] = [int('chloroplast' in i) for i in df['SpeciesName']]\n",
    "df['baccilus'] = [int('bacillus' in i) for i in df['SpeciesName']]\n",
    "df['bacterium'] = [int('bacterium' in i) for i in df['SpeciesName']]\n",
    "df['bacteria'] = [int('bacteria' in i) for i in df['SpeciesName']]\n",
    "df['streptomyces'] = [int('streptomyces' in i) for i in df['SpeciesName']]"
   ]
  },
  {
   "cell_type": "code",
   "execution_count": 542,
   "id": "054e1014",
   "metadata": {},
   "outputs": [],
   "source": [
    "X = df.drop(columns = ['Kingdom'])\n",
    "y = df['Kingdom']"
   ]
  },
  {
   "cell_type": "code",
   "execution_count": 543,
   "id": "8da28975",
   "metadata": {},
   "outputs": [
    {
     "data": {
      "text/plain": [
       "bct    2297\n",
       "vrl    2236\n",
       "pln    1959\n",
       "vrt    1636\n",
       "inv    1064\n",
       "mam     425\n",
       "phg     172\n",
       "rod     171\n",
       "pri     143\n",
       "arc      99\n",
       "plm      13\n",
       "Name: Kingdom, dtype: int64"
      ]
     },
     "execution_count": 543,
     "metadata": {},
     "output_type": "execute_result"
    }
   ],
   "source": [
    "y.value_counts()"
   ]
  },
  {
   "cell_type": "code",
   "execution_count": 544,
   "id": "9780ab72",
   "metadata": {},
   "outputs": [
    {
     "data": {
      "text/plain": [
       "1     2297\n",
       "9     2236\n",
       "6     1959\n",
       "10    1636\n",
       "2     1064\n",
       "3      425\n",
       "4      172\n",
       "8      171\n",
       "7      143\n",
       "0       99\n",
       "5       13\n",
       "dtype: int64"
      ]
     },
     "execution_count": 544,
     "metadata": {},
     "output_type": "execute_result"
    }
   ],
   "source": [
    "le = LabelEncoder()\n",
    "y = le.fit_transform(y)\n",
    "y = pd.DataFrame(y)\n",
    "y.value_counts()"
   ]
  },
  {
   "cell_type": "markdown",
   "id": "7c6f886a",
   "metadata": {},
   "source": [
    "We have a total of 11 categories"
   ]
  },
  {
   "cell_type": "markdown",
   "id": "21925e65",
   "metadata": {},
   "source": [
    "Let's now remove unnecessary colummns"
   ]
  },
  {
   "cell_type": "code",
   "execution_count": 545,
   "id": "7917720d",
   "metadata": {},
   "outputs": [],
   "source": [
    "X.drop(columns = ['SpeciesName', 'id'], inplace = True)"
   ]
  },
  {
   "cell_type": "code",
   "execution_count": 546,
   "id": "7253115e",
   "metadata": {},
   "outputs": [
    {
     "name": "stdout",
     "output_type": "stream",
     "text": [
      "<class 'pandas.core.frame.DataFrame'>\n",
      "Int64Index: 10215 entries, 0 to 10217\n",
      "Data columns (total 74 columns):\n",
      " #   Column         Non-Null Count  Dtype  \n",
      "---  ------         --------------  -----  \n",
      " 0   DNAtype        10215 non-null  float64\n",
      " 1   SpeciesID      10215 non-null  int64  \n",
      " 2   Ncodons        10215 non-null  int64  \n",
      " 3   UUU            10215 non-null  float64\n",
      " 4   UUC            10215 non-null  float64\n",
      " 5   UUA            10215 non-null  float64\n",
      " 6   UUG            10215 non-null  float64\n",
      " 7   CUU            10215 non-null  float64\n",
      " 8   CUC            10215 non-null  float64\n",
      " 9   CUA            10215 non-null  float64\n",
      " 10  CUG            10215 non-null  float64\n",
      " 11  AUU            10215 non-null  float64\n",
      " 12  AUC            10215 non-null  float64\n",
      " 13  AUA            10215 non-null  float64\n",
      " 14  AUG            10215 non-null  float64\n",
      " 15  GUU            10215 non-null  float64\n",
      " 16  GUC            10215 non-null  float64\n",
      " 17  GUA            10215 non-null  float64\n",
      " 18  GUG            10215 non-null  float64\n",
      " 19  GCU            10215 non-null  float64\n",
      " 20  GCC            10215 non-null  float64\n",
      " 21  GCA            10215 non-null  float64\n",
      " 22  GCG            10215 non-null  float64\n",
      " 23  CCU            10215 non-null  float64\n",
      " 24  CCC            10215 non-null  float64\n",
      " 25  CCA            10215 non-null  float64\n",
      " 26  CCG            10215 non-null  float64\n",
      " 27  UGG            10215 non-null  float64\n",
      " 28  GGU            10215 non-null  float64\n",
      " 29  GGC            10215 non-null  float64\n",
      " 30  GGA            10215 non-null  float64\n",
      " 31  GGG            10215 non-null  float64\n",
      " 32  UCU            10215 non-null  float64\n",
      " 33  UCC            10215 non-null  float64\n",
      " 34  UCA            10215 non-null  float64\n",
      " 35  UCG            10215 non-null  float64\n",
      " 36  AGU            10215 non-null  float64\n",
      " 37  AGC            10215 non-null  float64\n",
      " 38  ACU            10215 non-null  float64\n",
      " 39  ACC            10215 non-null  float64\n",
      " 40  ACA            10215 non-null  float64\n",
      " 41  ACG            10215 non-null  float64\n",
      " 42  UAU            10215 non-null  float64\n",
      " 43  UAC            10215 non-null  float64\n",
      " 44  CAA            10215 non-null  float64\n",
      " 45  CAG            10215 non-null  float64\n",
      " 46  AAU            10215 non-null  float64\n",
      " 47  AAC            10215 non-null  float64\n",
      " 48  UGU            10215 non-null  float64\n",
      " 49  UGC            10215 non-null  float64\n",
      " 50  CAU            10215 non-null  float64\n",
      " 51  CAC            10215 non-null  float64\n",
      " 52  AAA            10215 non-null  float64\n",
      " 53  AAG            10215 non-null  float64\n",
      " 54  CGU            10215 non-null  float64\n",
      " 55  CGC            10215 non-null  float64\n",
      " 56  CGA            10215 non-null  float64\n",
      " 57  CGG            10215 non-null  float64\n",
      " 58  AGA            10215 non-null  float64\n",
      " 59  AGG            10215 non-null  float64\n",
      " 60  GAU            10215 non-null  float64\n",
      " 61  GAC            10215 non-null  float64\n",
      " 62  GAA            10215 non-null  float64\n",
      " 63  GAG            10215 non-null  float64\n",
      " 64  UAA            10215 non-null  float64\n",
      " 65  UAG            10215 non-null  float64\n",
      " 66  UGA            10215 non-null  float64\n",
      " 67  mitochondrian  10215 non-null  int64  \n",
      " 68  virus          10215 non-null  int64  \n",
      " 69  chloroplast    10215 non-null  int64  \n",
      " 70  baccilus       10215 non-null  int64  \n",
      " 71  bacterium      10215 non-null  int64  \n",
      " 72  bacteria       10215 non-null  int64  \n",
      " 73  streptomyces   10215 non-null  int64  \n",
      "dtypes: float64(65), int64(9)\n",
      "memory usage: 5.8 MB\n"
     ]
    }
   ],
   "source": [
    "\n",
    "X['UUU']=X['UUU'].astype('float')\n",
    "X['UUC']=X['UUC'].astype('float')\n",
    "X.info()"
   ]
  },
  {
   "cell_type": "code",
   "execution_count": 547,
   "id": "964a1f26",
   "metadata": {},
   "outputs": [
    {
     "data": {
      "text/plain": [
       "DNAtype         0\n",
       "SpeciesID       0\n",
       "Ncodons         0\n",
       "UUU             0\n",
       "UUC             0\n",
       "               ..\n",
       "chloroplast     0\n",
       "baccilus        0\n",
       "bacterium       0\n",
       "bacteria        0\n",
       "streptomyces    0\n",
       "Length: 74, dtype: int64"
      ]
     },
     "execution_count": 547,
     "metadata": {},
     "output_type": "execute_result"
    }
   ],
   "source": [
    "X.isna().sum()"
   ]
  },
  {
   "cell_type": "code",
   "execution_count": 548,
   "id": "baf25bec",
   "metadata": {},
   "outputs": [
    {
     "data": {
      "text/plain": [
       "<AxesSubplot:>"
      ]
     },
     "execution_count": 548,
     "metadata": {},
     "output_type": "execute_result"
    },
    {
     "data": {
      "image/png": "[encoded data removed]",
      "text/plain": [
       "<Figure size 432x288 with 1 Axes>"
      ]
     },
     "metadata": {
      "needs_background": "light"
     },
     "output_type": "display_data"
    }
   ],
   "source": [
    "sb.heatmap(X.isna().transpose(), cbar = False, cmap = 'YlGnBu')"
   ]
  },
  {
   "cell_type": "markdown",
   "id": "0f70393c",
   "metadata": {},
   "source": [
    "Don't see any missing values from this chart. Looks like it's the only 1 in DNA Type"
   ]
  },
  {
   "cell_type": "code",
   "execution_count": 549,
   "id": "fd99b2e0",
   "metadata": {},
   "outputs": [
    {
     "data": {
      "text/html": [
       "<div>\n",
       "<style scoped>\n",
       "    .dataframe tbody tr th:only-of-type {\n",
       "        vertical-align: middle;\n",
       "    }\n",
       "\n",
       "    .dataframe tbody tr th {\n",
       "        vertical-align: top;\n",
       "    }\n",
       "\n",
       "    .dataframe thead th {\n",
       "        text-align: right;\n",
       "    }\n",
       "</style>\n",
       "<table border=\"1\" class=\"dataframe\">\n",
       "  <thead>\n",
       "    <tr style=\"text-align: right;\">\n",
       "      <th></th>\n",
       "      <th>DNAtype</th>\n",
       "      <th>SpeciesID</th>\n",
       "      <th>Ncodons</th>\n",
       "      <th>UUU</th>\n",
       "      <th>UUC</th>\n",
       "      <th>UUA</th>\n",
       "      <th>UUG</th>\n",
       "      <th>CUU</th>\n",
       "      <th>CUC</th>\n",
       "      <th>CUA</th>\n",
       "      <th>...</th>\n",
       "      <th>UAA</th>\n",
       "      <th>UAG</th>\n",
       "      <th>UGA</th>\n",
       "      <th>mitochondrian</th>\n",
       "      <th>virus</th>\n",
       "      <th>chloroplast</th>\n",
       "      <th>baccilus</th>\n",
       "      <th>bacterium</th>\n",
       "      <th>bacteria</th>\n",
       "      <th>streptomyces</th>\n",
       "    </tr>\n",
       "  </thead>\n",
       "  <tbody>\n",
       "  </tbody>\n",
       "</table>\n",
       "<p>0 rows × 74 columns</p>\n",
       "</div>"
      ],
      "text/plain": [
       "Empty DataFrame\n",
       "Columns: [DNAtype, SpeciesID, Ncodons, UUU, UUC, UUA, UUG, CUU, CUC, CUA, CUG, AUU, AUC, AUA, AUG, GUU, GUC, GUA, GUG, GCU, GCC, GCA, GCG, CCU, CCC, CCA, CCG, UGG, GGU, GGC, GGA, GGG, UCU, UCC, UCA, UCG, AGU, AGC, ACU, ACC, ACA, ACG, UAU, UAC, CAA, CAG, AAU, AAC, UGU, UGC, CAU, CAC, AAA, AAG, CGU, CGC, CGA, CGG, AGA, AGG, GAU, GAC, GAA, GAG, UAA, UAG, UGA, mitochondrian, virus, chloroplast, baccilus, bacterium, bacteria, streptomyces]\n",
       "Index: []\n",
       "\n",
       "[0 rows x 74 columns]"
      ]
     },
     "execution_count": 549,
     "metadata": {},
     "output_type": "execute_result"
    }
   ],
   "source": [
    "X[X['DNAtype'].isna()]"
   ]
  },
  {
   "cell_type": "markdown",
   "id": "333101d6",
   "metadata": {},
   "source": [
    "Since the missing DNA type is of kingdom mam and we have sufficient entries of mam (426), we can afford to lose one data point"
   ]
  },
  {
   "cell_type": "code",
   "execution_count": 550,
   "id": "649b96d1",
   "metadata": {},
   "outputs": [],
   "source": [
    "X.dropna(inplace = True)"
   ]
  },
  {
   "cell_type": "markdown",
   "id": "246de947",
   "metadata": {},
   "source": [
    "Let's Scale the DNA column"
   ]
  },
  {
   "cell_type": "code",
   "execution_count": 551,
   "id": "7d807eaf",
   "metadata": {},
   "outputs": [],
   "source": [
    "X['Ncodons'] = [(i - X['Ncodons'].min())/(X['Ncodons'].max() - X['Ncodons'].min()) for i in X['Ncodons']]"
   ]
  },
  {
   "cell_type": "markdown",
   "id": "1babd45a",
   "metadata": {},
   "source": [
    "Train Validation split"
   ]
  },
  {
   "cell_type": "code",
   "execution_count": 552,
   "id": "a52ff8ce",
   "metadata": {},
   "outputs": [],
   "source": [
    "X_train, X_val, y_train, y_val = train_test_split(\n",
    "    X, y, test_size = 0.3, random_state = 20221104, stratify = y)"
   ]
  },
  {
   "cell_type": "markdown",
   "id": "5aba4eb0",
   "metadata": {},
   "source": [
    "Building a Neural Network"
   ]
  },
  {
   "cell_type": "code",
   "execution_count": 553,
   "id": "48e4ea2c",
   "metadata": {},
   "outputs": [],
   "source": [
    "y_train = np.array(y_train[0].to_list())"
   ]
  },
  {
   "cell_type": "code",
   "execution_count": 554,
   "id": "41b05325",
   "metadata": {},
   "outputs": [],
   "source": [
    "y_val = np.array(y_val[0].to_list())"
   ]
  },
  {
   "cell_type": "code",
   "execution_count": 555,
   "id": "e3fb5945",
   "metadata": {},
   "outputs": [
    {
     "data": {
      "text/plain": [
       "array([[-0.52521388, -0.97790982, -0.06207877, ..., -0.1397682 ,\n",
       "        -0.10365118, -0.11479723],\n",
       "       [ 0.8403422 ,  1.61348213, -0.10207325, ..., -0.1397682 ,\n",
       "        -0.10365118, -0.11479723],\n",
       "       [-0.52521388, -0.38227254, -0.10253722, ..., -0.1397682 ,\n",
       "        -0.10365118, -0.11479723],\n",
       "       ...,\n",
       "       [ 2.20589828,  2.4231161 , -0.0723795 , ..., -0.1397682 ,\n",
       "        -0.10365118, -0.11479723],\n",
       "       [-0.52521388, -0.61433166, -0.09561132, ..., -0.1397682 ,\n",
       "        -0.10365118, -0.11479723],\n",
       "       [ 2.20589828, -0.64380278, -0.10250725, ..., -0.1397682 ,\n",
       "        -0.10365118, -0.11479723]])"
      ]
     },
     "execution_count": 555,
     "metadata": {},
     "output_type": "execute_result"
    }
   ],
   "source": [
    "sc = StandardScaler()\n",
    "X_train = sc.fit_transform(X_train)\n",
    "X_train"
   ]
  },
  {
   "cell_type": "code",
   "execution_count": 556,
   "id": "ba557881",
   "metadata": {},
   "outputs": [
    {
     "data": {
      "text/plain": [
       "array([[ 4.66672645,  0.29768429, -0.11383398, ..., -0.14368723,\n",
       "        -0.11928532, -0.1287779 ],\n",
       "       [-0.48676538, -0.98645852, -0.11330277, ..., -0.14368723,\n",
       "        -0.11928532, -0.1287779 ],\n",
       "       [-0.48676538, -0.94889902, -0.11230442, ..., -0.14368723,\n",
       "        -0.11928532, -0.1287779 ],\n",
       "       ...,\n",
       "       [-0.48676538, -1.01941379, -0.09404369, ..., -0.14368723,\n",
       "        -0.11928532, -0.1287779 ],\n",
       "       [-0.48676538, -0.75729561, -0.11198398, ..., -0.14368723,\n",
       "        -0.11928532, -0.1287779 ],\n",
       "       [ 0.80160758, -0.48962172, -0.11425269, ..., -0.14368723,\n",
       "        -0.11928532, -0.1287779 ]])"
      ]
     },
     "execution_count": 556,
     "metadata": {},
     "output_type": "execute_result"
    }
   ],
   "source": [
    "sc = StandardScaler()\n",
    "X_val = sc.fit_transform(X_val)\n",
    "X_val"
   ]
  },
  {
   "cell_type": "code",
   "execution_count": 557,
   "id": "69212c00",
   "metadata": {},
   "outputs": [
    {
     "data": {
      "text/plain": [
       "(7150,)"
      ]
     },
     "execution_count": 557,
     "metadata": {},
     "output_type": "execute_result"
    }
   ],
   "source": [
    "X_train.shape\n",
    "y_train.shape"
   ]
  },
  {
   "cell_type": "code",
   "execution_count": 614,
   "id": "89664afb",
   "metadata": {
    "scrolled": true
   },
   "outputs": [
    {
     "name": "stdout",
     "output_type": "stream",
     "text": [
      "Iteration 1, loss = 0.99070363\n",
      "Iteration 2, loss = 0.33417528\n",
      "Iteration 3, loss = 0.24332913\n",
      "Iteration 4, loss = 0.18599847\n",
      "Iteration 5, loss = 0.14294473\n",
      "Iteration 6, loss = 0.12317914\n",
      "Iteration 7, loss = 0.10142357\n",
      "Iteration 8, loss = 0.09135079\n",
      "Iteration 9, loss = 0.09256742\n",
      "Iteration 10, loss = 0.07683993\n",
      "Iteration 11, loss = 0.06887517\n",
      "Iteration 12, loss = 0.05068629\n",
      "Iteration 13, loss = 0.04879462\n",
      "Iteration 14, loss = 0.05042307\n",
      "Iteration 15, loss = 0.04195014\n",
      "Iteration 16, loss = 0.02647489\n",
      "Iteration 17, loss = 0.02148657\n",
      "Iteration 18, loss = 0.02159007\n",
      "Iteration 19, loss = 0.02093002\n",
      "Iteration 20, loss = 0.02089933\n",
      "Iteration 21, loss = 0.01933120\n",
      "Iteration 22, loss = 0.01962685\n",
      "Iteration 23, loss = 0.01933191\n",
      "Iteration 24, loss = 0.01651412\n",
      "Iteration 25, loss = 0.01198230\n",
      "Iteration 26, loss = 0.02197715\n",
      "Iteration 27, loss = 0.03126447\n",
      "Iteration 28, loss = 0.02231075\n",
      "Iteration 29, loss = 0.02143803\n",
      "Iteration 30, loss = 0.03383490\n",
      "Iteration 31, loss = 0.01271960\n",
      "Iteration 32, loss = 0.00895638\n",
      "Iteration 33, loss = 0.00432087\n",
      "Iteration 34, loss = 0.00255509\n",
      "Iteration 35, loss = 0.00193306\n",
      "Iteration 36, loss = 0.00135221\n",
      "Iteration 37, loss = 0.00092145\n",
      "Iteration 38, loss = 0.00062072\n",
      "Iteration 39, loss = 0.00054473\n",
      "Iteration 40, loss = 0.00051713\n",
      "Iteration 41, loss = 0.00049154\n",
      "Iteration 42, loss = 0.00046342\n",
      "Iteration 43, loss = 0.00044416\n",
      "Iteration 44, loss = 0.00044381\n",
      "Iteration 45, loss = 0.00042815\n",
      "Iteration 46, loss = 0.00041198\n",
      "Iteration 47, loss = 0.00039929\n",
      "Iteration 48, loss = 0.00038817\n",
      "Iteration 49, loss = 0.00037584\n",
      "Training loss did not improve more than tol=0.000100 for 10 consecutive epochs. Stopping.\n",
      "Activation Function: relu\n",
      "List of predicted classes: [ 0  1  2  3  4  5  6  7  8  9 10]\n"
     ]
    }
   ],
   "source": [
    "from sklearn.neural_network import MLPClassifier\n",
    "num_neurons = 200\n",
    "num_iters = 100\n",
    "\n",
    "mlp1 = MLPClassifier(max_iter = num_iters, hidden_layer_sizes = [num_neurons,num_neurons,num_neurons,num_neurons,num_neurons], activation='relu',random_state = 123, verbose = True)\n",
    "mlp1.fit(X_train, y_train)\n",
    "\n",
    "print(\"Activation Function: {}\".format(mlp1.activation))\n",
    "print(\"List of predicted classes: {}\".format(mlp1.classes_))"
   ]
  },
  {
   "cell_type": "code",
   "execution_count": 601,
   "id": "17a451c4",
   "metadata": {
    "scrolled": true
   },
   "outputs": [
    {
     "name": "stdout",
     "output_type": "stream",
     "text": [
      "[array([[ 0.04808235, -0.02324637, -0.10333545, ...,  0.07220596,\n",
      "        -0.07861533, -0.12883039],\n",
      "       [ 0.06686279, -0.18258788,  0.00600391, ...,  0.05742258,\n",
      "        -0.083089  ,  0.10657701],\n",
      "       [ 0.00187652, -0.07889136,  0.10515186, ...,  0.0052687 ,\n",
      "        -0.11797856, -0.20156412],\n",
      "       ...,\n",
      "       [ 0.12087877,  0.04569125,  0.08352319, ...,  0.00523338,\n",
      "         0.10467171,  0.01326618],\n",
      "       [ 0.05546871,  0.1502412 , -0.05013383, ...,  0.09588717,\n",
      "         0.04670397, -0.08500296],\n",
      "       [-0.03273044,  0.12029142, -0.08033365, ...,  0.04689183,\n",
      "         0.06060491,  0.03052471]]), array([[ 0.04902397,  0.02634139, -0.01735667, ...,  0.1164432 ,\n",
      "        -0.13034866, -0.03406614],\n",
      "       [ 0.23817218, -0.06216499, -0.05482119, ..., -0.14109845,\n",
      "         0.05374641,  0.03524851],\n",
      "       [-0.15223076, -0.04088516,  0.01081532, ..., -0.05998159,\n",
      "        -0.09504516, -0.01591105],\n",
      "       ...,\n",
      "       [ 0.0173197 ,  0.05548389,  0.02516529, ..., -0.04902033,\n",
      "        -0.01361347, -0.0837622 ],\n",
      "       [ 0.11763953,  0.03120049, -0.02549559, ..., -0.03214502,\n",
      "         0.12056743,  0.04592872],\n",
      "       [-0.03207592, -0.03360402,  0.04510559, ...,  0.06380929,\n",
      "        -0.08980414,  0.06351488]]), array([[-5.58530607e-15,  1.06456787e-01, -1.18807524e-01, ...,\n",
      "         1.60772842e-01, -2.05242563e-02,  1.35650338e-04],\n",
      "       [ 2.47007386e-02, -8.11224677e-02,  1.24314833e-01, ...,\n",
      "        -4.63595996e-02,  1.41885252e-03, -8.39821319e-02],\n",
      "       [-2.06206656e-02, -4.13636475e-02,  1.23488168e-01, ...,\n",
      "         4.94839109e-02,  8.87506042e-03,  4.74726098e-02],\n",
      "       ...,\n",
      "       [ 1.84512908e-02,  9.36584891e-02, -9.07310644e-03, ...,\n",
      "         3.48425960e-02, -3.28464689e-03,  3.03821384e-02],\n",
      "       [-4.88585072e-02, -2.07552943e-02, -3.75589950e-02, ...,\n",
      "         6.55564950e-02, -3.33846283e-03, -1.08125547e-01],\n",
      "       [ 6.29394062e-02, -7.20294617e-02, -2.72509876e-02, ...,\n",
      "         6.14006313e-02,  7.70224930e-02,  7.36462458e-02]]), array([[-2.54573874e-02, -9.83690175e-22, -6.52932953e-03, ...,\n",
      "         4.70298899e-03,  1.51935822e-02, -7.45908969e-02],\n",
      "       [-6.62958092e-02,  8.15283377e-02,  2.97070984e-02, ...,\n",
      "        -9.44900294e-02,  6.68836433e-02,  5.42197346e-02],\n",
      "       [ 4.79932688e-02, -2.92951521e-02,  6.53008207e-02, ...,\n",
      "        -9.10313473e-02,  7.92538244e-02,  1.02611089e-01],\n",
      "       ...,\n",
      "       [-6.42846769e-03,  6.45786058e-02,  7.76215027e-02, ...,\n",
      "         1.20154997e-01, -1.46347033e-01, -8.49273859e-02],\n",
      "       [ 1.14406912e-01, -1.28728132e-01,  1.29815508e-01, ...,\n",
      "        -6.51206887e-02,  9.49152500e-02,  1.32748223e-01],\n",
      "       [ 6.03186762e-02,  4.86832248e-02, -6.94561998e-02, ...,\n",
      "        -7.48324872e-02, -6.12138164e-02, -1.23490873e-01]]), array([[ 8.15895573e-02, -5.73658116e-02, -3.58863459e-03, ...,\n",
      "        -1.44927736e-02, -3.19257020e-02, -7.76999157e-02],\n",
      "       [ 7.34364477e-02,  1.50972239e-02, -2.44141173e-02, ...,\n",
      "        -6.74969462e-12,  3.03371133e-02, -5.69472304e-02],\n",
      "       [ 1.07859259e-02, -6.34209097e-02, -4.66871175e-02, ...,\n",
      "        -1.40855739e-02,  1.23349775e-01, -1.43262805e-01],\n",
      "       ...,\n",
      "       [-1.31024032e-01, -1.98062428e-02,  6.05949985e-03, ...,\n",
      "         7.44753095e-02, -5.68318488e-02, -1.53716066e-04],\n",
      "       [-1.04659832e-01, -8.53356248e-02,  8.03185345e-03, ...,\n",
      "        -5.96439443e-02, -2.76439143e-02,  5.89880740e-02],\n",
      "       [-6.42997204e-02,  1.19458152e-01,  1.40263170e-01, ...,\n",
      "         1.31935246e-02,  1.12661629e-01,  6.84080219e-02]]), array([[ 0.1014646 ,  0.18959912, -0.24077359, ...,  0.29851235,\n",
      "         0.07295401, -0.01071846],\n",
      "       [ 0.03945892, -0.16334625,  0.09393936, ..., -0.21409856,\n",
      "        -0.18904077,  0.16988938],\n",
      "       [ 0.11445725,  0.01160318, -0.16274218, ..., -0.06583708,\n",
      "         0.08691212,  0.09492506],\n",
      "       ...,\n",
      "       [-0.22174938, -0.14506816, -0.09965545, ..., -0.15840887,\n",
      "        -0.41272733, -0.06457349],\n",
      "       [ 0.01939283,  0.10473401, -0.07467566, ..., -0.19973824,\n",
      "        -0.08664004,  0.05902959],\n",
      "       [-0.01245709, -0.07853568,  0.02523092, ..., -0.11042049,\n",
      "        -0.187764  ,  0.100686  ]])]\n"
     ]
    }
   ],
   "source": [
    "print(mlp1.coefs_)"
   ]
  },
  {
   "cell_type": "code",
   "execution_count": 615,
   "id": "8f785a39",
   "metadata": {},
   "outputs": [
    {
     "name": "stdout",
     "output_type": "stream",
     "text": [
      "              precision    recall  f1-score   support\n",
      "\n",
      "           0       0.82      0.77      0.79        30\n",
      "           1       0.97      0.98      0.97       689\n",
      "           2       0.89      0.88      0.89       319\n",
      "           3       0.84      0.90      0.87       127\n",
      "           4       0.94      0.85      0.89        52\n",
      "           5       0.50      0.25      0.33         4\n",
      "           6       0.93      0.95      0.94       588\n",
      "           7       0.73      0.84      0.78        43\n",
      "           8       0.86      0.63      0.73        51\n",
      "           9       1.00      0.99      1.00       671\n",
      "          10       0.97      0.97      0.97       491\n",
      "\n",
      "    accuracy                           0.95      3065\n",
      "   macro avg       0.86      0.82      0.83      3065\n",
      "weighted avg       0.95      0.95      0.95      3065\n",
      "\n"
     ]
    }
   ],
   "source": [
    "from sklearn import metrics\n",
    "y_predicted = mlp1.predict(X_val)\n",
    "print(metrics.classification_report(y_val, y_predicted))"
   ]
  },
  {
   "cell_type": "code",
   "execution_count": 585,
   "id": "8b6bd149",
   "metadata": {},
   "outputs": [
    {
     "data": {
      "text/plain": [
       "array([10, 10,  6, ...,  6,  1,  6])"
      ]
     },
     "execution_count": 585,
     "metadata": {},
     "output_type": "execute_result"
    }
   ],
   "source": [
    "y_predicted\n",
    "y_val"
   ]
  },
  {
   "cell_type": "code",
   "execution_count": 589,
   "id": "b92bc163",
   "metadata": {},
   "outputs": [
    {
     "name": "stdout",
     "output_type": "stream",
     "text": [
      "[[ 23   6   0   0   0   0   0   0   0   1   0]\n",
      " [  3 673   2   0   2   1   7   0   0   0   1]\n",
      " [  0   2 282   0   1   0  30   0   0   1   3]\n",
      " [  0   0   3 114   0   0   0   6   1   0   3]\n",
      " [  2   5   1   0  44   0   0   0   0   0   0]\n",
      " [  0   3   0   0   0   1   0   0   0   0   0]\n",
      " [  0   4  22   0   0   0 556   0   2   0   4]\n",
      " [  0   0   0   5   0   0   0  36   1   0   1]\n",
      " [  0   0   0  11   0   0   1   4  32   0   3]\n",
      " [  0   1   0   1   0   0   2   0   0 667   0]\n",
      " [  0   0   7   5   0   0   1   3   1   0 474]]\n"
     ]
    }
   ],
   "source": [
    "from sklearn.metrics import confusion_matrix\n",
    "cf_matrix = confusion_matrix(y_val, y_predicted)\n",
    "print(cf_matrix)"
   ]
  },
  {
   "cell_type": "code",
   "execution_count": 590,
   "id": "86df4997",
   "metadata": {},
   "outputs": [
    {
     "data": {
      "text/plain": [
       "<AxesSubplot:>"
      ]
     },
     "execution_count": 590,
     "metadata": {},
     "output_type": "execute_result"
    },
    {
     "data": {
      "image/png": "[encoded data removed]",
      "text/plain": [
       "<Figure size 432x288 with 2 Axes>"
      ]
     },
     "metadata": {
      "needs_background": "light"
     },
     "output_type": "display_data"
    }
   ],
   "source": [
    "import seaborn as sns\n",
    "sns.heatmap(cf_matrix, annot=True)"
   ]
  },
  {
   "cell_type": "code",
   "execution_count": 591,
   "id": "f3c5442d",
   "metadata": {},
   "outputs": [
    {
     "data": {
      "text/plain": [
       "array([[0, 2],\n",
       "       [1, 1]], dtype=int64)"
      ]
     },
     "execution_count": 591,
     "metadata": {},
     "output_type": "execute_result"
    }
   ],
   "source": [
    "confusion_matrix([0, 1, 0, 1], [1, 1, 1, 0])"
   ]
  },
  {
   "cell_type": "code",
   "execution_count": 513,
   "id": "d1f34070",
   "metadata": {},
   "outputs": [
    {
     "data": {
      "text/plain": [
       "array(['vrt', 'phg', 'vrl', ..., 'pln', 'pln', 'vrt'], dtype=object)"
      ]
     },
     "execution_count": 513,
     "metadata": {},
     "output_type": "execute_result"
    }
   ],
   "source": [
    "y_predicted_val = le.inverse_transform(y_predicted)\n",
    "y_predicted_val"
   ]
  },
  {
   "cell_type": "code",
   "execution_count": 514,
   "id": "d68706bb",
   "metadata": {},
   "outputs": [
    {
     "data": {
      "text/html": [
       "<div>\n",
       "<style scoped>\n",
       "    .dataframe tbody tr th:only-of-type {\n",
       "        vertical-align: middle;\n",
       "    }\n",
       "\n",
       "    .dataframe tbody tr th {\n",
       "        vertical-align: top;\n",
       "    }\n",
       "\n",
       "    .dataframe thead th {\n",
       "        text-align: right;\n",
       "    }\n",
       "</style>\n",
       "<table border=\"1\" class=\"dataframe\">\n",
       "  <thead>\n",
       "    <tr style=\"text-align: right;\">\n",
       "      <th></th>\n",
       "      <th>id</th>\n",
       "      <th>DNAtype</th>\n",
       "      <th>SpeciesID</th>\n",
       "      <th>Ncodons</th>\n",
       "      <th>SpeciesName</th>\n",
       "      <th>UUU</th>\n",
       "      <th>UUC</th>\n",
       "      <th>UUA</th>\n",
       "      <th>UUG</th>\n",
       "      <th>CUU</th>\n",
       "      <th>...</th>\n",
       "      <th>CGG</th>\n",
       "      <th>AGA</th>\n",
       "      <th>AGG</th>\n",
       "      <th>GAU</th>\n",
       "      <th>GAC</th>\n",
       "      <th>GAA</th>\n",
       "      <th>GAG</th>\n",
       "      <th>UAA</th>\n",
       "      <th>UAG</th>\n",
       "      <th>UGA</th>\n",
       "    </tr>\n",
       "  </thead>\n",
       "  <tbody>\n",
       "    <tr>\n",
       "      <th>0</th>\n",
       "      <td>10129</td>\n",
       "      <td>0</td>\n",
       "      <td>380134</td>\n",
       "      <td>3307</td>\n",
       "      <td>Fusarium oxysporum f. sp. colocasiae</td>\n",
       "      <td>0.00907</td>\n",
       "      <td>0.03145</td>\n",
       "      <td>0.00121</td>\n",
       "      <td>0.01270</td>\n",
       "      <td>0.01391</td>\n",
       "      <td>...</td>\n",
       "      <td>0.00000</td>\n",
       "      <td>0.00423</td>\n",
       "      <td>0.00121</td>\n",
       "      <td>0.02873</td>\n",
       "      <td>0.03538</td>\n",
       "      <td>0.00544</td>\n",
       "      <td>0.01875</td>\n",
       "      <td>0.00121</td>\n",
       "      <td>0.00121</td>\n",
       "      <td>0.00000</td>\n",
       "    </tr>\n",
       "    <tr>\n",
       "      <th>1</th>\n",
       "      <td>10130</td>\n",
       "      <td>0</td>\n",
       "      <td>235457</td>\n",
       "      <td>1357</td>\n",
       "      <td>Adeno-associated virus 11</td>\n",
       "      <td>0.01695</td>\n",
       "      <td>0.02800</td>\n",
       "      <td>0.00368</td>\n",
       "      <td>0.00590</td>\n",
       "      <td>0.00368</td>\n",
       "      <td>...</td>\n",
       "      <td>0.00663</td>\n",
       "      <td>0.01400</td>\n",
       "      <td>0.00442</td>\n",
       "      <td>0.01179</td>\n",
       "      <td>0.04348</td>\n",
       "      <td>0.01548</td>\n",
       "      <td>0.04274</td>\n",
       "      <td>0.00147</td>\n",
       "      <td>0.00000</td>\n",
       "      <td>0.00000</td>\n",
       "    </tr>\n",
       "    <tr>\n",
       "      <th>2</th>\n",
       "      <td>10131</td>\n",
       "      <td>2</td>\n",
       "      <td>34301</td>\n",
       "      <td>26766</td>\n",
       "      <td>chloroplast Nymphaea alba</td>\n",
       "      <td>0.03172</td>\n",
       "      <td>0.02272</td>\n",
       "      <td>0.02798</td>\n",
       "      <td>0.02167</td>\n",
       "      <td>0.02062</td>\n",
       "      <td>...</td>\n",
       "      <td>0.00497</td>\n",
       "      <td>0.01939</td>\n",
       "      <td>0.00770</td>\n",
       "      <td>0.03262</td>\n",
       "      <td>0.00897</td>\n",
       "      <td>0.03852</td>\n",
       "      <td>0.01487</td>\n",
       "      <td>0.00164</td>\n",
       "      <td>0.00090</td>\n",
       "      <td>0.00097</td>\n",
       "    </tr>\n",
       "    <tr>\n",
       "      <th>3</th>\n",
       "      <td>10132</td>\n",
       "      <td>0</td>\n",
       "      <td>5530</td>\n",
       "      <td>30838</td>\n",
       "      <td>Metarhizium anisopliae</td>\n",
       "      <td>0.01235</td>\n",
       "      <td>0.02299</td>\n",
       "      <td>0.00311</td>\n",
       "      <td>0.01362</td>\n",
       "      <td>0.01443</td>\n",
       "      <td>...</td>\n",
       "      <td>0.00519</td>\n",
       "      <td>0.00538</td>\n",
       "      <td>0.00451</td>\n",
       "      <td>0.02396</td>\n",
       "      <td>0.03502</td>\n",
       "      <td>0.01647</td>\n",
       "      <td>0.03424</td>\n",
       "      <td>0.00104</td>\n",
       "      <td>0.00062</td>\n",
       "      <td>0.00032</td>\n",
       "    </tr>\n",
       "    <tr>\n",
       "      <th>4</th>\n",
       "      <td>10133</td>\n",
       "      <td>1</td>\n",
       "      <td>398797</td>\n",
       "      <td>2402</td>\n",
       "      <td>mitochondrion Rhagophthalmus lufengensis</td>\n",
       "      <td>0.09159</td>\n",
       "      <td>0.01166</td>\n",
       "      <td>0.10991</td>\n",
       "      <td>0.00833</td>\n",
       "      <td>0.01499</td>\n",
       "      <td>...</td>\n",
       "      <td>0.00083</td>\n",
       "      <td>0.02748</td>\n",
       "      <td>0.00000</td>\n",
       "      <td>0.01249</td>\n",
       "      <td>0.00083</td>\n",
       "      <td>0.01873</td>\n",
       "      <td>0.00250</td>\n",
       "      <td>0.00291</td>\n",
       "      <td>0.00125</td>\n",
       "      <td>0.02581</td>\n",
       "    </tr>\n",
       "  </tbody>\n",
       "</table>\n",
       "<p>5 rows × 69 columns</p>\n",
       "</div>"
      ],
      "text/plain": [
       "      id  DNAtype  SpeciesID  Ncodons  \\\n",
       "0  10129        0     380134     3307   \n",
       "1  10130        0     235457     1357   \n",
       "2  10131        2      34301    26766   \n",
       "3  10132        0       5530    30838   \n",
       "4  10133        1     398797     2402   \n",
       "\n",
       "                                SpeciesName      UUU      UUC      UUA  \\\n",
       "0      Fusarium oxysporum f. sp. colocasiae  0.00907  0.03145  0.00121   \n",
       "1                 Adeno-associated virus 11  0.01695  0.02800  0.00368   \n",
       "2                 chloroplast Nymphaea alba  0.03172  0.02272  0.02798   \n",
       "3                    Metarhizium anisopliae  0.01235  0.02299  0.00311   \n",
       "4  mitochondrion Rhagophthalmus lufengensis  0.09159  0.01166  0.10991   \n",
       "\n",
       "       UUG      CUU  ...      CGG      AGA      AGG      GAU      GAC  \\\n",
       "0  0.01270  0.01391  ...  0.00000  0.00423  0.00121  0.02873  0.03538   \n",
       "1  0.00590  0.00368  ...  0.00663  0.01400  0.00442  0.01179  0.04348   \n",
       "2  0.02167  0.02062  ...  0.00497  0.01939  0.00770  0.03262  0.00897   \n",
       "3  0.01362  0.01443  ...  0.00519  0.00538  0.00451  0.02396  0.03502   \n",
       "4  0.00833  0.01499  ...  0.00083  0.02748  0.00000  0.01249  0.00083   \n",
       "\n",
       "       GAA      GAG      UAA      UAG      UGA  \n",
       "0  0.00544  0.01875  0.00121  0.00121  0.00000  \n",
       "1  0.01548  0.04274  0.00147  0.00000  0.00000  \n",
       "2  0.03852  0.01487  0.00164  0.00090  0.00097  \n",
       "3  0.01647  0.03424  0.00104  0.00062  0.00032  \n",
       "4  0.01873  0.00250  0.00291  0.00125  0.02581  \n",
       "\n",
       "[5 rows x 69 columns]"
      ]
     },
     "execution_count": 514,
     "metadata": {},
     "output_type": "execute_result"
    }
   ],
   "source": [
    "df_test = pd.read_csv('data/testing.csv')\n",
    "df_test.dropna(inplace=True)\n",
    "df_test.head()"
   ]
  },
  {
   "cell_type": "code",
   "execution_count": 515,
   "id": "06576565",
   "metadata": {},
   "outputs": [],
   "source": [
    "df_test['SpeciesName'] = df_test['SpeciesName'].str.lower()\n",
    "df_test['mitochondrian'] = [int('mitochondrion' in i) for i in df_test['SpeciesName']]\n",
    "df_test['virus'] = [int('virus' in i) for i in df_test['SpeciesName']]\n",
    "df_test['chloroplast'] = [int('chloroplast' in i) for i in df_test['SpeciesName']]\n",
    "df_test['baccilus'] = [int('bacillus' in i) for i in df_test['SpeciesName']]\n",
    "df_test['bacterium'] = [int('bacterium' in i) for i in df_test['SpeciesName']]\n",
    "df_test['bacteria'] = [int('bacteria' in i) for i in df_test['SpeciesName']]\n",
    "df_test['streptomyces'] = [int('streptomyces' in i) for i in df_test['SpeciesName']]"
   ]
  },
  {
   "cell_type": "code",
   "execution_count": 516,
   "id": "95f75024",
   "metadata": {},
   "outputs": [],
   "source": [
    "df_test.drop(columns = ['SpeciesName', 'id'], inplace = True)"
   ]
  },
  {
   "cell_type": "code",
   "execution_count": 517,
   "id": "1694e42f",
   "metadata": {},
   "outputs": [
    {
     "name": "stdout",
     "output_type": "stream",
     "text": [
      "<class 'pandas.core.frame.DataFrame'>\n",
      "RangeIndex: 2810 entries, 0 to 2809\n",
      "Data columns (total 74 columns):\n",
      " #   Column         Non-Null Count  Dtype  \n",
      "---  ------         --------------  -----  \n",
      " 0   DNAtype        2810 non-null   int64  \n",
      " 1   SpeciesID      2810 non-null   int64  \n",
      " 2   Ncodons        2810 non-null   int64  \n",
      " 3   UUU            2810 non-null   float64\n",
      " 4   UUC            2810 non-null   float64\n",
      " 5   UUA            2810 non-null   float64\n",
      " 6   UUG            2810 non-null   float64\n",
      " 7   CUU            2810 non-null   float64\n",
      " 8   CUC            2810 non-null   float64\n",
      " 9   CUA            2810 non-null   float64\n",
      " 10  CUG            2810 non-null   float64\n",
      " 11  AUU            2810 non-null   float64\n",
      " 12  AUC            2810 non-null   float64\n",
      " 13  AUA            2810 non-null   float64\n",
      " 14  AUG            2810 non-null   float64\n",
      " 15  GUU            2810 non-null   float64\n",
      " 16  GUC            2810 non-null   float64\n",
      " 17  GUA            2810 non-null   float64\n",
      " 18  GUG            2810 non-null   float64\n",
      " 19  GCU            2810 non-null   float64\n",
      " 20  GCC            2810 non-null   float64\n",
      " 21  GCA            2810 non-null   float64\n",
      " 22  GCG            2810 non-null   float64\n",
      " 23  CCU            2810 non-null   float64\n",
      " 24  CCC            2810 non-null   float64\n",
      " 25  CCA            2810 non-null   float64\n",
      " 26  CCG            2810 non-null   float64\n",
      " 27  UGG            2810 non-null   float64\n",
      " 28  GGU            2810 non-null   float64\n",
      " 29  GGC            2810 non-null   float64\n",
      " 30  GGA            2810 non-null   float64\n",
      " 31  GGG            2810 non-null   float64\n",
      " 32  UCU            2810 non-null   float64\n",
      " 33  UCC            2810 non-null   float64\n",
      " 34  UCA            2810 non-null   float64\n",
      " 35  UCG            2810 non-null   float64\n",
      " 36  AGU            2810 non-null   float64\n",
      " 37  AGC            2810 non-null   float64\n",
      " 38  ACU            2810 non-null   float64\n",
      " 39  ACC            2810 non-null   float64\n",
      " 40  ACA            2810 non-null   float64\n",
      " 41  ACG            2810 non-null   float64\n",
      " 42  UAU            2810 non-null   float64\n",
      " 43  UAC            2810 non-null   float64\n",
      " 44  CAA            2810 non-null   float64\n",
      " 45  CAG            2810 non-null   float64\n",
      " 46  AAU            2810 non-null   float64\n",
      " 47  AAC            2810 non-null   float64\n",
      " 48  UGU            2810 non-null   float64\n",
      " 49  UGC            2810 non-null   float64\n",
      " 50  CAU            2810 non-null   float64\n",
      " 51  CAC            2810 non-null   float64\n",
      " 52  AAA            2810 non-null   float64\n",
      " 53  AAG            2810 non-null   float64\n",
      " 54  CGU            2810 non-null   float64\n",
      " 55  CGC            2810 non-null   float64\n",
      " 56  CGA            2810 non-null   float64\n",
      " 57  CGG            2810 non-null   float64\n",
      " 58  AGA            2810 non-null   float64\n",
      " 59  AGG            2810 non-null   float64\n",
      " 60  GAU            2810 non-null   float64\n",
      " 61  GAC            2810 non-null   float64\n",
      " 62  GAA            2810 non-null   float64\n",
      " 63  GAG            2810 non-null   float64\n",
      " 64  UAA            2810 non-null   float64\n",
      " 65  UAG            2810 non-null   float64\n",
      " 66  UGA            2810 non-null   float64\n",
      " 67  mitochondrian  2810 non-null   int64  \n",
      " 68  virus          2810 non-null   int64  \n",
      " 69  chloroplast    2810 non-null   int64  \n",
      " 70  baccilus       2810 non-null   int64  \n",
      " 71  bacterium      2810 non-null   int64  \n",
      " 72  bacteria       2810 non-null   int64  \n",
      " 73  streptomyces   2810 non-null   int64  \n",
      "dtypes: float64(64), int64(10)\n",
      "memory usage: 1.6 MB\n"
     ]
    }
   ],
   "source": [
    "df_test.info()"
   ]
  },
  {
   "cell_type": "code",
   "execution_count": 518,
   "id": "68b4287c",
   "metadata": {},
   "outputs": [],
   "source": [
    "df_test['Ncodons'] = [(i - df_test['Ncodons'].min())/(df_test['Ncodons'].max() - df_test['Ncodons'].min()) for i in df_test['Ncodons']]"
   ]
  },
  {
   "cell_type": "code",
   "execution_count": 519,
   "id": "58812c1d",
   "metadata": {},
   "outputs": [
    {
     "data": {
      "text/plain": [
       "array([[-0.52986627,  2.00425389, -0.1869592 , ..., -0.13459548,\n",
       "        -0.10901068, -0.12466072],\n",
       "       [-0.52986627,  0.83886169, -0.19336462, ..., -0.13459548,\n",
       "        -0.10901068, -0.12466072],\n",
       "       [ 2.03282603, -0.78147626, -0.10990032, ..., -0.13459548,\n",
       "        -0.10901068, -0.12466072],\n",
       "       ...,\n",
       "       [-0.52986627,  1.33660435, -0.1941924 , ..., -0.13459548,\n",
       "        -0.10901068, -0.12466072],\n",
       "       [-0.52986627, -0.46875996, -0.19238903, ..., -0.13459548,\n",
       "        -0.10901068, -0.12466072],\n",
       "       [-0.52986627, -1.05150037, -0.05741855, ..., -0.13459548,\n",
       "        -0.10901068, -0.12466072]])"
      ]
     },
     "execution_count": 519,
     "metadata": {},
     "output_type": "execute_result"
    }
   ],
   "source": [
    "sc = StandardScaler()\n",
    "df_test = sc.fit_transform(df_test)\n",
    "df_test"
   ]
  },
  {
   "cell_type": "code",
   "execution_count": 520,
   "id": "d9574812",
   "metadata": {},
   "outputs": [
    {
     "data": {
      "text/plain": [
       "(2810, 74)"
      ]
     },
     "execution_count": 520,
     "metadata": {},
     "output_type": "execute_result"
    }
   ],
   "source": [
    "df_test.shape"
   ]
  },
  {
   "cell_type": "code",
   "execution_count": 521,
   "id": "e65380bf",
   "metadata": {},
   "outputs": [
    {
     "data": {
      "text/plain": [
       "array([6, 9, 6, ..., 9, 6, 1])"
      ]
     },
     "execution_count": 521,
     "metadata": {},
     "output_type": "execute_result"
    }
   ],
   "source": [
    "y_test_predicted = mlp1.predict(df_test)\n",
    "# print(metrics.classification_report(y_test, y_test_predicted))\n",
    "y_test_predicted"
   ]
  },
  {
   "cell_type": "code",
   "execution_count": 522,
   "id": "e0ec2996",
   "metadata": {},
   "outputs": [
    {
     "data": {
      "text/plain": [
       "array(['pln', 'vrl', 'pln', ..., 'vrl', 'pln', 'bct'], dtype=object)"
      ]
     },
     "execution_count": 522,
     "metadata": {},
     "output_type": "execute_result"
    }
   ],
   "source": [
    "y_predicted_test = le.inverse_transform(y_test_predicted)\n",
    "y_predicted_test"
   ]
  },
  {
   "cell_type": "code",
   "execution_count": 523,
   "id": "5fbc6aa3",
   "metadata": {},
   "outputs": [],
   "source": [
    "df_test_submit = pd.read_csv('data/testing.csv')\n"
   ]
  },
  {
   "cell_type": "code",
   "execution_count": 524,
   "id": "9ec1b65c",
   "metadata": {},
   "outputs": [],
   "source": [
    "df_test_submit['Kingdom'] = y_predicted_test.tolist()"
   ]
  },
  {
   "cell_type": "code",
   "execution_count": 525,
   "id": "238928c0",
   "metadata": {},
   "outputs": [
    {
     "data": {
      "text/html": [
       "<div>\n",
       "<style scoped>\n",
       "    .dataframe tbody tr th:only-of-type {\n",
       "        vertical-align: middle;\n",
       "    }\n",
       "\n",
       "    .dataframe tbody tr th {\n",
       "        vertical-align: top;\n",
       "    }\n",
       "\n",
       "    .dataframe thead th {\n",
       "        text-align: right;\n",
       "    }\n",
       "</style>\n",
       "<table border=\"1\" class=\"dataframe\">\n",
       "  <thead>\n",
       "    <tr style=\"text-align: right;\">\n",
       "      <th></th>\n",
       "      <th>id</th>\n",
       "      <th>Kingdom</th>\n",
       "    </tr>\n",
       "  </thead>\n",
       "  <tbody>\n",
       "    <tr>\n",
       "      <th>0</th>\n",
       "      <td>10129</td>\n",
       "      <td>pln</td>\n",
       "    </tr>\n",
       "    <tr>\n",
       "      <th>1</th>\n",
       "      <td>10130</td>\n",
       "      <td>vrl</td>\n",
       "    </tr>\n",
       "    <tr>\n",
       "      <th>2</th>\n",
       "      <td>10131</td>\n",
       "      <td>pln</td>\n",
       "    </tr>\n",
       "    <tr>\n",
       "      <th>3</th>\n",
       "      <td>10132</td>\n",
       "      <td>pln</td>\n",
       "    </tr>\n",
       "    <tr>\n",
       "      <th>4</th>\n",
       "      <td>10133</td>\n",
       "      <td>inv</td>\n",
       "    </tr>\n",
       "    <tr>\n",
       "      <th>...</th>\n",
       "      <td>...</td>\n",
       "      <td>...</td>\n",
       "    </tr>\n",
       "    <tr>\n",
       "      <th>2805</th>\n",
       "      <td>12934</td>\n",
       "      <td>bct</td>\n",
       "    </tr>\n",
       "    <tr>\n",
       "      <th>2806</th>\n",
       "      <td>12935</td>\n",
       "      <td>vrt</td>\n",
       "    </tr>\n",
       "    <tr>\n",
       "      <th>2807</th>\n",
       "      <td>12936</td>\n",
       "      <td>vrl</td>\n",
       "    </tr>\n",
       "    <tr>\n",
       "      <th>2808</th>\n",
       "      <td>12937</td>\n",
       "      <td>pln</td>\n",
       "    </tr>\n",
       "    <tr>\n",
       "      <th>2809</th>\n",
       "      <td>12938</td>\n",
       "      <td>bct</td>\n",
       "    </tr>\n",
       "  </tbody>\n",
       "</table>\n",
       "<p>2810 rows × 2 columns</p>\n",
       "</div>"
      ],
      "text/plain": [
       "         id Kingdom\n",
       "0     10129     pln\n",
       "1     10130     vrl\n",
       "2     10131     pln\n",
       "3     10132     pln\n",
       "4     10133     inv\n",
       "...     ...     ...\n",
       "2805  12934     bct\n",
       "2806  12935     vrt\n",
       "2807  12936     vrl\n",
       "2808  12937     pln\n",
       "2809  12938     bct\n",
       "\n",
       "[2810 rows x 2 columns]"
      ]
     },
     "execution_count": 525,
     "metadata": {},
     "output_type": "execute_result"
    }
   ],
   "source": [
    "df_test_submit[['id','Kingdom']]"
   ]
  },
  {
   "cell_type": "code",
   "execution_count": 526,
   "id": "2d3c78cf",
   "metadata": {},
   "outputs": [],
   "source": [
    "df_test_submit[['id','Kingdom']].to_csv('final_result_1.csv', index=False)"
   ]
  },
  {
   "cell_type": "code",
   "execution_count": 478,
   "id": "7104b321",
   "metadata": {},
   "outputs": [
    {
     "data": {
      "text/plain": [
       "(7150, 74)"
      ]
     },
     "execution_count": 478,
     "metadata": {},
     "output_type": "execute_result"
    }
   ],
   "source": [
    "X_train.shape"
   ]
  },
  {
   "cell_type": "code",
   "execution_count": 479,
   "id": "58914e5a",
   "metadata": {},
   "outputs": [],
   "source": [
    "import torch\n",
    "import torch.nn as nn"
   ]
  },
  {
   "cell_type": "code",
   "execution_count": 480,
   "id": "72f62392",
   "metadata": {},
   "outputs": [],
   "source": [
    "class MultiLayerPerceptron(nn.Module):\n",
    "\n",
    "  def __init__(self, input_size, hidden_size):\n",
    "    # Call to the __init__ function of the super class\n",
    "    super(MultiLayerPerceptron, self).__init__()\n",
    "\n",
    "    # Save the initialization parameters\n",
    "    self.input_size = input_size\n",
    "    self.hidden_size = hidden_size\n",
    "\n",
    "    # Defining our layers\n",
    "    self.linear = nn.Linear(self.input_size, self.hidden_size)\n",
    "    self.relu = nn.ReLU()\n",
    "    self.linear2 = nn.Linear(self.hidden_size, self.input_size)\n",
    "    self.sigmoid = nn.Sigmoid()\n",
    "\n",
    "  def forward(self, x):\n",
    "    linear = self.linear(x)\n",
    "    relu = self.relu(linear)\n",
    "    linear2 = self.linear2(relu)\n",
    "    output = self.sigmoid(linear2)\n",
    "    return output"
   ]
  },
  {
   "cell_type": "code",
   "execution_count": 481,
   "id": "3a914969",
   "metadata": {},
   "outputs": [],
   "source": [
    "import tensorflow as tf\n",
    "X_train = torch.from_numpy(X_train) \n",
    "y_train = torch.from_numpy(y_train)"
   ]
  },
  {
   "cell_type": "code",
   "execution_count": 483,
   "id": "36521e96",
   "metadata": {},
   "outputs": [
    {
     "ename": "RuntimeError",
     "evalue": "mat1 and mat2 must have the same dtype",
     "output_type": "error",
     "traceback": [
      "\u001b[1;31m---------------------------------------------------------------------------\u001b[0m",
      "\u001b[1;31mRuntimeError\u001b[0m                              Traceback (most recent call last)",
      "Input \u001b[1;32mIn [483]\u001b[0m, in \u001b[0;36m<cell line: 8>\u001b[1;34m()\u001b[0m\n\u001b[0;32m      5\u001b[0m loss_func \u001b[38;5;241m=\u001b[39m nn\u001b[38;5;241m.\u001b[39mBCELoss()\n\u001b[0;32m      7\u001b[0m \u001b[38;5;66;03m# Calculate how our model is doing now\u001b[39;00m\n\u001b[1;32m----> 8\u001b[0m y_pred \u001b[38;5;241m=\u001b[39m \u001b[43mmodel\u001b[49m\u001b[43m(\u001b[49m\u001b[43mX_train\u001b[49m\u001b[43m)\u001b[49m\n\u001b[0;32m      9\u001b[0m \u001b[38;5;28mprint\u001b[39m(loss_func(y_pred, y_train)\u001b[38;5;241m.\u001b[39mitem())\n\u001b[0;32m     10\u001b[0m \u001b[38;5;28mprint\u001b[39m(y_pred)\n",
      "File \u001b[1;32m~\\anaconda3\\envs\\pypro\\lib\\site-packages\\torch\\nn\\modules\\module.py:1190\u001b[0m, in \u001b[0;36mModule._call_impl\u001b[1;34m(self, *input, **kwargs)\u001b[0m\n\u001b[0;32m   1186\u001b[0m \u001b[38;5;66;03m# If we don't have any hooks, we want to skip the rest of the logic in\u001b[39;00m\n\u001b[0;32m   1187\u001b[0m \u001b[38;5;66;03m# this function, and just call forward.\u001b[39;00m\n\u001b[0;32m   1188\u001b[0m \u001b[38;5;28;01mif\u001b[39;00m \u001b[38;5;129;01mnot\u001b[39;00m (\u001b[38;5;28mself\u001b[39m\u001b[38;5;241m.\u001b[39m_backward_hooks \u001b[38;5;129;01mor\u001b[39;00m \u001b[38;5;28mself\u001b[39m\u001b[38;5;241m.\u001b[39m_forward_hooks \u001b[38;5;129;01mor\u001b[39;00m \u001b[38;5;28mself\u001b[39m\u001b[38;5;241m.\u001b[39m_forward_pre_hooks \u001b[38;5;129;01mor\u001b[39;00m _global_backward_hooks\n\u001b[0;32m   1189\u001b[0m         \u001b[38;5;129;01mor\u001b[39;00m _global_forward_hooks \u001b[38;5;129;01mor\u001b[39;00m _global_forward_pre_hooks):\n\u001b[1;32m-> 1190\u001b[0m     \u001b[38;5;28;01mreturn\u001b[39;00m forward_call(\u001b[38;5;241m*\u001b[39m\u001b[38;5;28minput\u001b[39m, \u001b[38;5;241m*\u001b[39m\u001b[38;5;241m*\u001b[39mkwargs)\n\u001b[0;32m   1191\u001b[0m \u001b[38;5;66;03m# Do not call functions when jit is used\u001b[39;00m\n\u001b[0;32m   1192\u001b[0m full_backward_hooks, non_full_backward_hooks \u001b[38;5;241m=\u001b[39m [], []\n",
      "Input \u001b[1;32mIn [480]\u001b[0m, in \u001b[0;36mMultiLayerPerceptron.forward\u001b[1;34m(self, x)\u001b[0m\n\u001b[0;32m     17\u001b[0m \u001b[38;5;28;01mdef\u001b[39;00m \u001b[38;5;21mforward\u001b[39m(\u001b[38;5;28mself\u001b[39m, x):\n\u001b[1;32m---> 18\u001b[0m   linear \u001b[38;5;241m=\u001b[39m \u001b[38;5;28;43mself\u001b[39;49m\u001b[38;5;241;43m.\u001b[39;49m\u001b[43mlinear\u001b[49m\u001b[43m(\u001b[49m\u001b[43mx\u001b[49m\u001b[43m)\u001b[49m\n\u001b[0;32m     19\u001b[0m   relu \u001b[38;5;241m=\u001b[39m \u001b[38;5;28mself\u001b[39m\u001b[38;5;241m.\u001b[39mrelu(linear)\n\u001b[0;32m     20\u001b[0m   linear2 \u001b[38;5;241m=\u001b[39m \u001b[38;5;28mself\u001b[39m\u001b[38;5;241m.\u001b[39mlinear2(relu)\n",
      "File \u001b[1;32m~\\anaconda3\\envs\\pypro\\lib\\site-packages\\torch\\nn\\modules\\module.py:1190\u001b[0m, in \u001b[0;36mModule._call_impl\u001b[1;34m(self, *input, **kwargs)\u001b[0m\n\u001b[0;32m   1186\u001b[0m \u001b[38;5;66;03m# If we don't have any hooks, we want to skip the rest of the logic in\u001b[39;00m\n\u001b[0;32m   1187\u001b[0m \u001b[38;5;66;03m# this function, and just call forward.\u001b[39;00m\n\u001b[0;32m   1188\u001b[0m \u001b[38;5;28;01mif\u001b[39;00m \u001b[38;5;129;01mnot\u001b[39;00m (\u001b[38;5;28mself\u001b[39m\u001b[38;5;241m.\u001b[39m_backward_hooks \u001b[38;5;129;01mor\u001b[39;00m \u001b[38;5;28mself\u001b[39m\u001b[38;5;241m.\u001b[39m_forward_hooks \u001b[38;5;129;01mor\u001b[39;00m \u001b[38;5;28mself\u001b[39m\u001b[38;5;241m.\u001b[39m_forward_pre_hooks \u001b[38;5;129;01mor\u001b[39;00m _global_backward_hooks\n\u001b[0;32m   1189\u001b[0m         \u001b[38;5;129;01mor\u001b[39;00m _global_forward_hooks \u001b[38;5;129;01mor\u001b[39;00m _global_forward_pre_hooks):\n\u001b[1;32m-> 1190\u001b[0m     \u001b[38;5;28;01mreturn\u001b[39;00m forward_call(\u001b[38;5;241m*\u001b[39m\u001b[38;5;28minput\u001b[39m, \u001b[38;5;241m*\u001b[39m\u001b[38;5;241m*\u001b[39mkwargs)\n\u001b[0;32m   1191\u001b[0m \u001b[38;5;66;03m# Do not call functions when jit is used\u001b[39;00m\n\u001b[0;32m   1192\u001b[0m full_backward_hooks, non_full_backward_hooks \u001b[38;5;241m=\u001b[39m [], []\n",
      "File \u001b[1;32m~\\anaconda3\\envs\\pypro\\lib\\site-packages\\torch\\nn\\modules\\linear.py:114\u001b[0m, in \u001b[0;36mLinear.forward\u001b[1;34m(self, input)\u001b[0m\n\u001b[0;32m    113\u001b[0m \u001b[38;5;28;01mdef\u001b[39;00m \u001b[38;5;21mforward\u001b[39m(\u001b[38;5;28mself\u001b[39m, \u001b[38;5;28minput\u001b[39m: Tensor) \u001b[38;5;241m-\u001b[39m\u001b[38;5;241m>\u001b[39m Tensor:\n\u001b[1;32m--> 114\u001b[0m     \u001b[38;5;28;01mreturn\u001b[39;00m \u001b[43mF\u001b[49m\u001b[38;5;241;43m.\u001b[39;49m\u001b[43mlinear\u001b[49m\u001b[43m(\u001b[49m\u001b[38;5;28;43minput\u001b[39;49m\u001b[43m,\u001b[49m\u001b[43m \u001b[49m\u001b[38;5;28;43mself\u001b[39;49m\u001b[38;5;241;43m.\u001b[39;49m\u001b[43mweight\u001b[49m\u001b[43m,\u001b[49m\u001b[43m \u001b[49m\u001b[38;5;28;43mself\u001b[39;49m\u001b[38;5;241;43m.\u001b[39;49m\u001b[43mbias\u001b[49m\u001b[43m)\u001b[49m\n",
      "\u001b[1;31mRuntimeError\u001b[0m: mat1 and mat2 must have the same dtype"
     ]
    }
   ],
   "source": [
    "# Instantiate the model\n",
    "model = MultiLayerPerceptron(74, 3)\n",
    "\n",
    "# Define loss function\n",
    "loss_func = nn.BCELoss()\n",
    "\n",
    "# Calculate how our model is doing now\n",
    "y_pred = model(X_train)\n",
    "print(loss_func(y_pred, y_train).item())\n",
    "print(y_pred)"
   ]
  },
  {
   "cell_type": "code",
   "execution_count": null,
   "id": "d8f710b9",
   "metadata": {},
   "outputs": [],
   "source": [
    "list(model.named_parameters())"
   ]
  },
  {
   "cell_type": "code",
   "execution_count": 581,
   "id": "426360aa",
   "metadata": {
    "scrolled": true
   },
   "outputs": [
    {
     "name": "stdout",
     "output_type": "stream",
     "text": [
      "Iteration 1, loss = 1.13136213\n",
      "Iteration 2, loss = 0.41866377\n",
      "Iteration 3, loss = 0.27245179\n",
      "Iteration 4, loss = 0.20751252\n",
      "Iteration 5, loss = 0.16934733\n",
      "Iteration 6, loss = 0.12683356\n",
      "Iteration 7, loss = 0.10796444\n",
      "Iteration 8, loss = 0.08769921\n",
      "Iteration 9, loss = 0.07941359\n",
      "Iteration 10, loss = 0.07785997\n",
      "Iteration 11, loss = 0.05708875\n",
      "Iteration 12, loss = 0.05146500\n",
      "Iteration 13, loss = 0.05296982\n",
      "Iteration 14, loss = 0.04197270\n",
      "Iteration 15, loss = 0.02992605\n",
      "Iteration 16, loss = 0.03835967\n",
      "Iteration 17, loss = 0.02840810\n",
      "Iteration 18, loss = 0.01766216\n",
      "Iteration 19, loss = 0.01416638\n",
      "Iteration 20, loss = 0.02124460\n",
      "Iteration 21, loss = 0.03190797\n",
      "Iteration 22, loss = 0.05878372\n",
      "Iteration 23, loss = 0.03820091\n",
      "Iteration 24, loss = 0.01938350\n",
      "Iteration 25, loss = 0.01355573\n",
      "Iteration 26, loss = 0.00849701\n",
      "Iteration 27, loss = 0.00885058\n",
      "Iteration 28, loss = 0.00318122\n",
      "Iteration 29, loss = 0.00288343\n",
      "Iteration 30, loss = 0.00506525\n",
      "Iteration 31, loss = 0.00924502\n",
      "Iteration 32, loss = 0.00925670\n",
      "Iteration 33, loss = 0.01415856\n",
      "Iteration 34, loss = 0.03169472\n",
      "Iteration 35, loss = 0.01859109\n",
      "Iteration 36, loss = 0.02231565\n",
      "Iteration 37, loss = 0.00872151\n",
      "Iteration 38, loss = 0.01369429\n",
      "Iteration 39, loss = 0.02124695\n",
      "Iteration 40, loss = 0.00699222\n",
      "Training loss did not improve more than tol=0.000100 for 10 consecutive epochs. Stopping.\n",
      "Iteration 1, loss = 1.13182347\n",
      "Iteration 2, loss = 0.43962632\n",
      "Iteration 3, loss = 0.28857036\n",
      "Iteration 4, loss = 0.22926652\n",
      "Iteration 5, loss = 0.18751251\n",
      "Iteration 6, loss = 0.17274517\n",
      "Iteration 7, loss = 0.13895021\n",
      "Iteration 8, loss = 0.10773253\n",
      "Iteration 9, loss = 0.08511718\n",
      "Iteration 10, loss = 0.07789056\n",
      "Iteration 11, loss = 0.06696695\n",
      "Iteration 12, loss = 0.06201714\n",
      "Iteration 13, loss = 0.05807822\n",
      "Iteration 14, loss = 0.04389214\n",
      "Iteration 15, loss = 0.03796009\n",
      "Iteration 16, loss = 0.03317205\n",
      "Iteration 17, loss = 0.02338960\n",
      "Iteration 18, loss = 0.02934293\n",
      "Iteration 19, loss = 0.04035364\n",
      "Iteration 20, loss = 0.01749034\n",
      "Iteration 21, loss = 0.01407574\n",
      "Iteration 22, loss = 0.01336089\n",
      "Iteration 23, loss = 0.01273818\n",
      "Iteration 24, loss = 0.00934377\n",
      "Iteration 25, loss = 0.02849775\n",
      "Iteration 26, loss = 0.03953416\n",
      "Iteration 27, loss = 0.04842667\n",
      "Iteration 28, loss = 0.03947676\n",
      "Iteration 29, loss = 0.02362672\n",
      "Iteration 30, loss = 0.00896955\n",
      "Iteration 31, loss = 0.00430312\n",
      "Iteration 32, loss = 0.00378014\n",
      "Iteration 33, loss = 0.00149201\n",
      "Iteration 34, loss = 0.00139161\n",
      "Iteration 35, loss = 0.00104272\n",
      "Iteration 36, loss = 0.00071141\n",
      "Iteration 37, loss = 0.00058743\n",
      "Iteration 38, loss = 0.00053698\n",
      "Iteration 39, loss = 0.00050587\n",
      "Iteration 40, loss = 0.00048934\n",
      "Iteration 41, loss = 0.00047062\n",
      "Iteration 42, loss = 0.00045700\n",
      "Iteration 43, loss = 0.00044915\n",
      "Iteration 44, loss = 0.00043722\n",
      "Iteration 45, loss = 0.00043333\n",
      "Iteration 46, loss = 0.00041840\n",
      "Iteration 47, loss = 0.00041861\n",
      "Iteration 48, loss = 0.00040945\n",
      "Training loss did not improve more than tol=0.000100 for 10 consecutive epochs. Stopping.\n",
      "Iteration 1, loss = 1.11458221\n",
      "Iteration 2, loss = 0.40122990\n",
      "Iteration 3, loss = 0.26681577\n",
      "Iteration 4, loss = 0.20552313\n",
      "Iteration 5, loss = 0.16384145\n",
      "Iteration 6, loss = 0.13504276\n",
      "Iteration 7, loss = 0.11313360\n",
      "Iteration 8, loss = 0.08775430\n",
      "Iteration 9, loss = 0.08345783\n",
      "Iteration 10, loss = 0.06632187\n",
      "Iteration 11, loss = 0.06181529\n",
      "Iteration 12, loss = 0.05271658\n",
      "Iteration 13, loss = 0.07253717\n",
      "Iteration 14, loss = 0.05223214\n",
      "Iteration 15, loss = 0.03594547\n",
      "Iteration 16, loss = 0.02411671\n",
      "Iteration 17, loss = 0.01909109\n",
      "Iteration 18, loss = 0.03924945\n",
      "Iteration 19, loss = 0.06837291\n",
      "Iteration 20, loss = 0.04287573\n",
      "Iteration 21, loss = 0.02972720\n",
      "Iteration 22, loss = 0.02477779\n",
      "Iteration 23, loss = 0.01696379\n",
      "Iteration 24, loss = 0.01849602\n",
      "Iteration 25, loss = 0.01143148\n",
      "Iteration 26, loss = 0.01076603\n",
      "Iteration 27, loss = 0.00822641\n",
      "Iteration 28, loss = 0.00568913\n",
      "Iteration 29, loss = 0.00704479\n",
      "Iteration 30, loss = 0.00785156\n",
      "Iteration 31, loss = 0.00678622\n",
      "Iteration 32, loss = 0.00865489\n",
      "Iteration 33, loss = 0.00544805\n",
      "Iteration 34, loss = 0.00255228\n",
      "Iteration 35, loss = 0.00106363\n",
      "Iteration 36, loss = 0.00077734\n",
      "Iteration 37, loss = 0.00449641\n",
      "Iteration 38, loss = 0.00363196\n",
      "Iteration 39, loss = 0.00160254\n",
      "Iteration 40, loss = 0.00413286\n",
      "Iteration 41, loss = 0.00852544\n",
      "Iteration 42, loss = 0.01492207\n",
      "Iteration 43, loss = 0.02666938\n",
      "Iteration 44, loss = 0.07544698\n",
      "Iteration 45, loss = 0.03867330\n",
      "Iteration 46, loss = 0.03845416\n",
      "Iteration 47, loss = 0.01593423\n",
      "Training loss did not improve more than tol=0.000100 for 10 consecutive epochs. Stopping.\n",
      "Iteration 1, loss = 1.13222635\n",
      "Iteration 2, loss = 0.41378953\n",
      "Iteration 3, loss = 0.29812636\n",
      "Iteration 4, loss = 0.22355915\n",
      "Iteration 5, loss = 0.16730852\n",
      "Iteration 6, loss = 0.13792430\n",
      "Iteration 7, loss = 0.11123658\n",
      "Iteration 8, loss = 0.08488831\n",
      "Iteration 9, loss = 0.07257744\n",
      "Iteration 10, loss = 0.09477830\n",
      "Iteration 11, loss = 0.07281620\n",
      "Iteration 12, loss = 0.06119101\n",
      "Iteration 13, loss = 0.04469834\n",
      "Iteration 14, loss = 0.03863144\n",
      "Iteration 15, loss = 0.03400023\n",
      "Iteration 16, loss = 0.03059329\n",
      "Iteration 17, loss = 0.03851048\n",
      "Iteration 18, loss = 0.02338067\n",
      "Iteration 19, loss = 0.02658962\n",
      "Iteration 20, loss = 0.03494930\n",
      "Iteration 21, loss = 0.04990229\n",
      "Iteration 22, loss = 0.03501116\n",
      "Iteration 23, loss = 0.02178852\n",
      "Iteration 24, loss = 0.01650881\n",
      "Iteration 25, loss = 0.01480003\n",
      "Iteration 26, loss = 0.01230871\n",
      "Iteration 27, loss = 0.04828130\n",
      "Iteration 28, loss = 0.02048310\n",
      "Iteration 29, loss = 0.00672313\n",
      "Iteration 30, loss = 0.00678793\n",
      "Iteration 31, loss = 0.00748530\n",
      "Iteration 32, loss = 0.00264219\n",
      "Iteration 33, loss = 0.00236729\n",
      "Iteration 34, loss = 0.00109932\n",
      "Iteration 35, loss = 0.00092535\n",
      "Iteration 36, loss = 0.00094154\n",
      "Iteration 37, loss = 0.00061059\n",
      "Iteration 38, loss = 0.00054869\n",
      "Iteration 39, loss = 0.00049548\n",
      "Iteration 40, loss = 0.00047297\n",
      "Iteration 41, loss = 0.00045584\n",
      "Iteration 42, loss = 0.00044371\n",
      "Iteration 43, loss = 0.00043245\n",
      "Iteration 44, loss = 0.00042409\n",
      "Iteration 45, loss = 0.00041299\n",
      "Iteration 46, loss = 0.00040063\n",
      "Iteration 47, loss = 0.00039094\n",
      "Iteration 48, loss = 0.00038149\n",
      "Training loss did not improve more than tol=0.000100 for 10 consecutive epochs. Stopping.\n",
      "Iteration 1, loss = 1.14507990\n",
      "Iteration 2, loss = 0.42032848\n",
      "Iteration 3, loss = 0.28294238\n",
      "Iteration 4, loss = 0.21480065\n",
      "Iteration 5, loss = 0.16691808\n",
      "Iteration 6, loss = 0.13403607\n",
      "Iteration 7, loss = 0.11723789\n",
      "Iteration 8, loss = 0.10751725\n",
      "Iteration 9, loss = 0.07871110\n",
      "Iteration 10, loss = 0.07858779\n",
      "Iteration 11, loss = 0.07116389\n",
      "Iteration 12, loss = 0.05893421\n",
      "Iteration 13, loss = 0.05300931\n",
      "Iteration 14, loss = 0.03699324\n",
      "Iteration 15, loss = 0.03236295\n",
      "Iteration 16, loss = 0.03559394\n",
      "Iteration 17, loss = 0.03939869\n",
      "Iteration 18, loss = 0.03041389\n",
      "Iteration 19, loss = 0.02741277\n",
      "Iteration 20, loss = 0.03090193\n",
      "Iteration 21, loss = 0.03625855\n",
      "Iteration 22, loss = 0.02000835\n",
      "Iteration 23, loss = 0.01665664\n",
      "Iteration 24, loss = 0.01723033\n",
      "Iteration 25, loss = 0.01206556\n",
      "Iteration 26, loss = 0.00719133\n",
      "Iteration 27, loss = 0.00640192\n",
      "Iteration 28, loss = 0.01256969\n",
      "Iteration 29, loss = 0.00614598\n",
      "Iteration 30, loss = 0.00289156\n",
      "Iteration 31, loss = 0.00163683\n",
      "Iteration 32, loss = 0.00267202\n",
      "Iteration 33, loss = 0.00325480\n",
      "Iteration 34, loss = 0.00222556\n",
      "Iteration 35, loss = 0.00109704\n",
      "Iteration 36, loss = 0.00097313\n",
      "Iteration 37, loss = 0.00065860\n",
      "Iteration 38, loss = 0.00074633\n",
      "Iteration 39, loss = 0.00192139\n",
      "Iteration 40, loss = 0.00054374\n",
      "Iteration 41, loss = 0.00054615\n",
      "Iteration 42, loss = 0.00045337\n",
      "Iteration 43, loss = 0.00043031\n",
      "Iteration 44, loss = 0.00041860\n",
      "Iteration 45, loss = 0.00041086\n",
      "Iteration 46, loss = 0.00040322\n",
      "Iteration 47, loss = 0.00039770\n",
      "Iteration 48, loss = 0.00039230\n",
      "Iteration 49, loss = 0.00038764\n",
      "Iteration 50, loss = 0.00038369\n",
      "Iteration 51, loss = 0.00037999\n",
      "Training loss did not improve more than tol=0.000100 for 10 consecutive epochs. Stopping.\n"
     ]
    }
   ],
   "source": [
    "from sklearn.model_selection import cross_validate, cross_val_score, StratifiedKFold, GridSearchCV, RandomizedSearchCV\n",
    "\n",
    "skf = StratifiedKFold(n_splits=5, shuffle=True, random_state=20221104)\n",
    "# scorer = sk.metrics.make_scorer(sk.metrics.f1_score , average = 'weighted')\n",
    "scores = cross_validate(mlp1, X_train, y_train, cv=skf, scoring='accuracy' )"
   ]
  },
  {
   "cell_type": "code",
   "execution_count": 604,
   "id": "cd041934",
   "metadata": {},
   "outputs": [
    {
     "data": {
      "text/plain": [
       "<AxesSubplot:>"
      ]
     },
     "execution_count": 604,
     "metadata": {},
     "output_type": "execute_result"
    },
    {
     "data": {
      "image/png": "[encoded data removed]",
      "text/plain": [
       "<Figure size 432x288 with 1 Axes>"
      ]
     },
     "metadata": {
      "needs_background": "light"
     },
     "output_type": "display_data"
    }
   ],
   "source": [
    "sb.boxplot(score_df['test_score'], orient='h')"
   ]
  },
  {
   "cell_type": "code",
   "execution_count": 582,
   "id": "08b8a545",
   "metadata": {},
   "outputs": [
    {
     "data": {
      "text/html": [
       "<div>\n",
       "<style scoped>\n",
       "    .dataframe tbody tr th:only-of-type {\n",
       "        vertical-align: middle;\n",
       "    }\n",
       "\n",
       "    .dataframe tbody tr th {\n",
       "        vertical-align: top;\n",
       "    }\n",
       "\n",
       "    .dataframe thead th {\n",
       "        text-align: right;\n",
       "    }\n",
       "</style>\n",
       "<table border=\"1\" class=\"dataframe\">\n",
       "  <thead>\n",
       "    <tr style=\"text-align: right;\">\n",
       "      <th></th>\n",
       "      <th>fit_time</th>\n",
       "      <th>score_time</th>\n",
       "      <th>test_score</th>\n",
       "    </tr>\n",
       "  </thead>\n",
       "  <tbody>\n",
       "    <tr>\n",
       "      <th>0</th>\n",
       "      <td>8.307616</td>\n",
       "      <td>0.014003</td>\n",
       "      <td>0.928671</td>\n",
       "    </tr>\n",
       "    <tr>\n",
       "      <th>1</th>\n",
       "      <td>10.080071</td>\n",
       "      <td>0.013001</td>\n",
       "      <td>0.946853</td>\n",
       "    </tr>\n",
       "    <tr>\n",
       "      <th>2</th>\n",
       "      <td>10.243653</td>\n",
       "      <td>0.010002</td>\n",
       "      <td>0.935664</td>\n",
       "    </tr>\n",
       "    <tr>\n",
       "      <th>3</th>\n",
       "      <td>10.701349</td>\n",
       "      <td>0.014001</td>\n",
       "      <td>0.946154</td>\n",
       "    </tr>\n",
       "    <tr>\n",
       "      <th>4</th>\n",
       "      <td>11.461009</td>\n",
       "      <td>0.012000</td>\n",
       "      <td>0.939860</td>\n",
       "    </tr>\n",
       "  </tbody>\n",
       "</table>\n",
       "</div>"
      ],
      "text/plain": [
       "    fit_time  score_time  test_score\n",
       "0   8.307616    0.014003    0.928671\n",
       "1  10.080071    0.013001    0.946853\n",
       "2  10.243653    0.010002    0.935664\n",
       "3  10.701349    0.014001    0.946154\n",
       "4  11.461009    0.012000    0.939860"
      ]
     },
     "execution_count": 582,
     "metadata": {},
     "output_type": "execute_result"
    }
   ],
   "source": [
    "score_df = pd.DataFrame(scores)\n",
    "score_df"
   ]
  },
  {
   "cell_type": "code",
   "execution_count": null,
   "id": "bfd32bf0",
   "metadata": {},
   "outputs": [],
   "source": []
  },
  {
   "cell_type": "code",
   "execution_count": 423,
   "id": "aa0de895",
   "metadata": {},
   "outputs": [
    {
     "data": {
      "text/plain": [
       "'\\nstart_time = time.time()\\n\\ntrained_model_7 = model.fit(X_train, y_train, epochs = 15, batch_size = 64, validation_data = (X_test, y_test))\\n\\nend_time = time.time()\\n\\nnum_mins = (end_time-start_time)/60\\n\\nprint(\"Total training time for the Seventh model is: \"  + str(num_mins) + \" minutes.\")\\n'"
      ]
     },
     "execution_count": 423,
     "metadata": {},
     "output_type": "execute_result"
    }
   ],
   "source": [
    "from tensorflow.keras.layers import Dropout\n",
    "from tensorflow.keras import Sequential\n",
    "from tensorflow.keras.layers import Dense, Conv2D, Flatten, MaxPooling2D\n",
    "import random\n",
    "\n",
    "random.seed(7)\n",
    "\n",
    "classifier = Sequential()\n",
    "#First Hidden Layer\n",
    "classifier.add(Dense(40, activation='relu', kernel_initializer='random_normal', input_dim=66))\n",
    "#Second  Hidden Layer\n",
    "classifier.add(Dense(40, activation='relu', kernel_initializer='random_normal'))\n",
    "#Output Layer\n",
    "classifier.add(Dense(11, activation='tanh', kernel_initializer='random_normal'))\n",
    "\n",
    "classifier.compile(optimizer ='adam',loss='binary_crossentropy', metrics =['accuracy'])\n",
    "'''\n",
    "start_time = time.time()\n",
    "\n",
    "trained_model_7 = model.fit(X_train, y_train, epochs = 15, batch_size = 64, validation_data = (X_test, y_test))\n",
    "\n",
    "end_time = time.time()\n",
    "\n",
    "num_mins = (end_time-start_time)/60\n",
    "\n",
    "print(\"Total training time for the Seventh model is: \"  + str(num_mins) + \" minutes.\")\n",
    "'''"
   ]
  },
  {
   "cell_type": "code",
   "execution_count": 424,
   "id": "8aad1e32",
   "metadata": {},
   "outputs": [
    {
     "name": "stdout",
     "output_type": "stream",
     "text": [
      "Epoch 1/100\n"
     ]
    },
    {
     "ename": "ValueError",
     "evalue": "in user code:\n\n    File \"C:\\Users\\shash\\AppData\\Roaming\\Python\\Python39\\site-packages\\keras\\engine\\training.py\", line 1021, in train_function  *\n        return step_function(self, iterator)\n    File \"C:\\Users\\shash\\AppData\\Roaming\\Python\\Python39\\site-packages\\keras\\engine\\training.py\", line 1010, in step_function  **\n        outputs = model.distribute_strategy.run(run_step, args=(data,))\n    File \"C:\\Users\\shash\\AppData\\Roaming\\Python\\Python39\\site-packages\\keras\\engine\\training.py\", line 1000, in run_step  **\n        outputs = model.train_step(data)\n    File \"C:\\Users\\shash\\AppData\\Roaming\\Python\\Python39\\site-packages\\keras\\engine\\training.py\", line 859, in train_step\n        y_pred = self(x, training=True)\n    File \"C:\\Users\\shash\\AppData\\Roaming\\Python\\Python39\\site-packages\\keras\\utils\\traceback_utils.py\", line 67, in error_handler\n        raise e.with_traceback(filtered_tb) from None\n    File \"C:\\Users\\shash\\AppData\\Roaming\\Python\\Python39\\site-packages\\keras\\engine\\input_spec.py\", line 264, in assert_input_compatibility\n        raise ValueError(f'Input {input_index} of layer \"{layer_name}\" is '\n\n    ValueError: Input 0 of layer \"sequential_9\" is incompatible with the layer: expected shape=(None, 66), found shape=(10, 74)\n",
     "output_type": "error",
     "traceback": [
      "\u001b[1;31m---------------------------------------------------------------------------\u001b[0m",
      "\u001b[1;31mValueError\u001b[0m                                Traceback (most recent call last)",
      "Input \u001b[1;32mIn [424]\u001b[0m, in \u001b[0;36m<cell line: 1>\u001b[1;34m()\u001b[0m\n\u001b[1;32m----> 1\u001b[0m \u001b[43mclassifier\u001b[49m\u001b[38;5;241;43m.\u001b[39;49m\u001b[43mfit\u001b[49m\u001b[43m(\u001b[49m\u001b[43mX_train\u001b[49m\u001b[43m,\u001b[49m\u001b[43my_train\u001b[49m\u001b[43m,\u001b[49m\u001b[43m \u001b[49m\u001b[43mbatch_size\u001b[49m\u001b[38;5;241;43m=\u001b[39;49m\u001b[38;5;241;43m10\u001b[39;49m\u001b[43m,\u001b[49m\u001b[43m \u001b[49m\u001b[43mepochs\u001b[49m\u001b[38;5;241;43m=\u001b[39;49m\u001b[38;5;241;43m100\u001b[39;49m\u001b[43m)\u001b[49m\n",
      "File \u001b[1;32m~\\AppData\\Roaming\\Python\\Python39\\site-packages\\keras\\utils\\traceback_utils.py:67\u001b[0m, in \u001b[0;36mfilter_traceback.<locals>.error_handler\u001b[1;34m(*args, **kwargs)\u001b[0m\n\u001b[0;32m     65\u001b[0m \u001b[38;5;28;01mexcept\u001b[39;00m \u001b[38;5;167;01mException\u001b[39;00m \u001b[38;5;28;01mas\u001b[39;00m e:  \u001b[38;5;66;03m# pylint: disable=broad-except\u001b[39;00m\n\u001b[0;32m     66\u001b[0m   filtered_tb \u001b[38;5;241m=\u001b[39m _process_traceback_frames(e\u001b[38;5;241m.\u001b[39m__traceback__)\n\u001b[1;32m---> 67\u001b[0m   \u001b[38;5;28;01mraise\u001b[39;00m e\u001b[38;5;241m.\u001b[39mwith_traceback(filtered_tb) \u001b[38;5;28;01mfrom\u001b[39;00m \u001b[38;5;28mNone\u001b[39m\n\u001b[0;32m     68\u001b[0m \u001b[38;5;28;01mfinally\u001b[39;00m:\n\u001b[0;32m     69\u001b[0m   \u001b[38;5;28;01mdel\u001b[39;00m filtered_tb\n",
      "File \u001b[1;32m~\\AppData\\Roaming\\Python\\Python39\\site-packages\\tensorflow\\python\\framework\\func_graph.py:1147\u001b[0m, in \u001b[0;36mfunc_graph_from_py_func.<locals>.autograph_handler\u001b[1;34m(*args, **kwargs)\u001b[0m\n\u001b[0;32m   1145\u001b[0m \u001b[38;5;28;01mexcept\u001b[39;00m \u001b[38;5;167;01mException\u001b[39;00m \u001b[38;5;28;01mas\u001b[39;00m e:  \u001b[38;5;66;03m# pylint:disable=broad-except\u001b[39;00m\n\u001b[0;32m   1146\u001b[0m   \u001b[38;5;28;01mif\u001b[39;00m \u001b[38;5;28mhasattr\u001b[39m(e, \u001b[38;5;124m\"\u001b[39m\u001b[38;5;124mag_error_metadata\u001b[39m\u001b[38;5;124m\"\u001b[39m):\n\u001b[1;32m-> 1147\u001b[0m     \u001b[38;5;28;01mraise\u001b[39;00m e\u001b[38;5;241m.\u001b[39mag_error_metadata\u001b[38;5;241m.\u001b[39mto_exception(e)\n\u001b[0;32m   1148\u001b[0m   \u001b[38;5;28;01melse\u001b[39;00m:\n\u001b[0;32m   1149\u001b[0m     \u001b[38;5;28;01mraise\u001b[39;00m\n",
      "\u001b[1;31mValueError\u001b[0m: in user code:\n\n    File \"C:\\Users\\shash\\AppData\\Roaming\\Python\\Python39\\site-packages\\keras\\engine\\training.py\", line 1021, in train_function  *\n        return step_function(self, iterator)\n    File \"C:\\Users\\shash\\AppData\\Roaming\\Python\\Python39\\site-packages\\keras\\engine\\training.py\", line 1010, in step_function  **\n        outputs = model.distribute_strategy.run(run_step, args=(data,))\n    File \"C:\\Users\\shash\\AppData\\Roaming\\Python\\Python39\\site-packages\\keras\\engine\\training.py\", line 1000, in run_step  **\n        outputs = model.train_step(data)\n    File \"C:\\Users\\shash\\AppData\\Roaming\\Python\\Python39\\site-packages\\keras\\engine\\training.py\", line 859, in train_step\n        y_pred = self(x, training=True)\n    File \"C:\\Users\\shash\\AppData\\Roaming\\Python\\Python39\\site-packages\\keras\\utils\\traceback_utils.py\", line 67, in error_handler\n        raise e.with_traceback(filtered_tb) from None\n    File \"C:\\Users\\shash\\AppData\\Roaming\\Python\\Python39\\site-packages\\keras\\engine\\input_spec.py\", line 264, in assert_input_compatibility\n        raise ValueError(f'Input {input_index} of layer \"{layer_name}\" is '\n\n    ValueError: Input 0 of layer \"sequential_9\" is incompatible with the layer: expected shape=(None, 66), found shape=(10, 74)\n"
     ]
    }
   ],
   "source": [
    "classifier.fit(X_train,y_train, batch_size=10, epochs=100)"
   ]
  },
  {
   "cell_type": "code",
   "execution_count": null,
   "id": "05329b95",
   "metadata": {},
   "outputs": [],
   "source": [
    "from tensorflow.keras import models, layers, utils, backend as K\n",
    "import matplotlib.pyplot as plt\n",
    "# import shap\n",
    "\n",
    "n_features = 66\n",
    "model = models.Sequential(name=\"DeepNN\", layers=[\n",
    "    ### hidden layer 1\n",
    "    layers.Dense(name=\"h1\", input_dim=n_features,\n",
    "                 units=int(round((n_features+1)/2)), \n",
    "                 activation='relu'),\n",
    "    layers.Dropout(name=\"drop1\", rate=0.2),\n",
    "    \n",
    "    ### hidden layer 2\n",
    "    layers.Dense(name=\"h2\", units=int(round((n_features+1)/4)), \n",
    "                 activation='relu'),\n",
    "    layers.Dropout(name=\"drop2\", rate=0.2),\n",
    "    \n",
    "    # layer output\n",
    "    layers.Dense(name=\"output\", units=11, activation='relu')\n",
    "])\n",
    "model.summary()"
   ]
  },
  {
   "cell_type": "code",
   "execution_count": null,
   "id": "7eca8a17",
   "metadata": {},
   "outputs": [],
   "source": [
    "model.compile(optimizer='adam', loss='binary_crossentropy', \n",
    "              metrics=['accuracy'])"
   ]
  },
  {
   "cell_type": "code",
   "execution_count": null,
   "id": "d4630b94",
   "metadata": {},
   "outputs": [],
   "source": [
    "model.fit(X_train,y_train, batch_size=1, epochs=10)"
   ]
  }
 ],
 "metadata": {
  "kernelspec": {
   "display_name": "Python 3 (ipykernel)",
   "language": "python",
   "name": "python3"
  },
  "language_info": {
   "codemirror_mode": {
    "name": "ipython",
    "version": 3
   },
   "file_extension": ".py",
   "mimetype": "text/x-python",
   "name": "python",
   "nbconvert_exporter": "python",
   "pygments_lexer": "ipython3",
   "version": "3.9.12"
  }
 },
 "nbformat": 4,
 "nbformat_minor": 5
}
